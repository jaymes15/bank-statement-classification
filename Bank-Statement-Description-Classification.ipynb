{
 "cells": [
  {
   "attachments": {},
   "cell_type": "markdown",
   "id": "4c92a84c-15ef-413e-b582-1657597ba6ac",
   "metadata": {},
   "source": [
    "# Bank Statement Description Classification\n",
    "\n",
    "This Jupyter notebook provides a machine learning approach to classify bank statement descriptions into predefined categories. Bank statement descriptions often contain abbreviated or vague information, making it challenging to interpret their meaning. By classifying these descriptions into categories, financial institutions can better analyze transaction data for various purposes such as fraud detection, customer segmentation, and trend analysis.\n",
    "\n",
    "What we're going to cover:\n",
    "\n",
    "1. Getting the data ready\n",
    "2. Choose the right estimator/algorithm for our problems\n",
    "3. Fit the model/algorithm and use it to make predictions on our data\n",
    "4. Evaluating a model\n",
    "5. Improve a model\n",
    "6. Save and load a trained model\n"
   ]
  },
  {
   "attachments": {},
   "cell_type": "markdown",
   "id": "714e7471-b6e1-44ec-9753-47140031be51",
   "metadata": {},
   "source": [
    "## 1. Getting the data ready"
   ]
  },
  {
   "cell_type": "code",
   "execution_count": 1,
   "id": "d7117d54-c8ce-4708-bf48-44dffb58d6cb",
   "metadata": {},
   "outputs": [
    {
     "data": {
      "text/html": [
       "<div>\n",
       "<style scoped>\n",
       "    .dataframe tbody tr th:only-of-type {\n",
       "        vertical-align: middle;\n",
       "    }\n",
       "\n",
       "    .dataframe tbody tr th {\n",
       "        vertical-align: top;\n",
       "    }\n",
       "\n",
       "    .dataframe thead th {\n",
       "        text-align: right;\n",
       "    }\n",
       "</style>\n",
       "<table border=\"1\" class=\"dataframe\">\n",
       "  <thead>\n",
       "    <tr style=\"text-align: right;\">\n",
       "      <th></th>\n",
       "      <th>DESCRIPTION</th>\n",
       "      <th>TRX_TYPE</th>\n",
       "      <th>CLASS</th>\n",
       "      <th>SUB-CLASS</th>\n",
       "      <th>BANK</th>\n",
       "    </tr>\n",
       "  </thead>\n",
       "  <tbody>\n",
       "    <tr>\n",
       "      <th>0</th>\n",
       "      <td>AKANNI O EMMANUEL/MOB/UTO/ROTIMI EMMANUE/t/184...</td>\n",
       "      <td>Credit</td>\n",
       "      <td>USSD_TRANSFER</td>\n",
       "      <td>NaN</td>\n",
       "      <td>Access Bank</td>\n",
       "    </tr>\n",
       "    <tr>\n",
       "      <th>1</th>\n",
       "      <td>TRF/Transfer/FRMROTIMI EMMANUEL AKANNI TO MUHA...</td>\n",
       "      <td>Debit</td>\n",
       "      <td>BANK_TRANSFER</td>\n",
       "      <td>NaN</td>\n",
       "      <td>Access Bank</td>\n",
       "    </tr>\n",
       "    <tr>\n",
       "      <th>2</th>\n",
       "      <td>KANU WINNER U/MOBILE/UNION Transfer from KANU ...</td>\n",
       "      <td>Credit</td>\n",
       "      <td>APP_TRANSFER</td>\n",
       "      <td>NaN</td>\n",
       "      <td>Access Bank</td>\n",
       "    </tr>\n",
       "    <tr>\n",
       "      <th>3</th>\n",
       "      <td>TRF//FRMROTIMI EMMANUEL AKANNI TO ROTIMI EMMAN...</td>\n",
       "      <td>Credit</td>\n",
       "      <td>APP_TRANSFER</td>\n",
       "      <td>NaN</td>\n",
       "      <td>Access Bank</td>\n",
       "    </tr>\n",
       "    <tr>\n",
       "      <th>4</th>\n",
       "      <td>TRF/NULL/FRMUFUOMA BENEDICTA MARCHIE TO ROTIMI...</td>\n",
       "      <td>Credit</td>\n",
       "      <td>APP_TRANSFER</td>\n",
       "      <td>NaN</td>\n",
       "      <td>Access Bank</td>\n",
       "    </tr>\n",
       "  </tbody>\n",
       "</table>\n",
       "</div>"
      ],
      "text/plain": [
       "                                         DESCRIPTION TRX_TYPE          CLASS  \\\n",
       "0  AKANNI O EMMANUEL/MOB/UTO/ROTIMI EMMANUE/t/184...   Credit  USSD_TRANSFER   \n",
       "1  TRF/Transfer/FRMROTIMI EMMANUEL AKANNI TO MUHA...    Debit  BANK_TRANSFER   \n",
       "2  KANU WINNER U/MOBILE/UNION Transfer from KANU ...   Credit   APP_TRANSFER   \n",
       "3  TRF//FRMROTIMI EMMANUEL AKANNI TO ROTIMI EMMAN...   Credit   APP_TRANSFER   \n",
       "4  TRF/NULL/FRMUFUOMA BENEDICTA MARCHIE TO ROTIMI...   Credit   APP_TRANSFER   \n",
       "\n",
       "  SUB-CLASS         BANK  \n",
       "0       NaN  Access Bank  \n",
       "1       NaN  Access Bank  \n",
       "2       NaN  Access Bank  \n",
       "3       NaN  Access Bank  \n",
       "4       NaN  Access Bank  "
      ]
     },
     "execution_count": 1,
     "metadata": {},
     "output_type": "execute_result"
    }
   ],
   "source": [
    "import pandas as pd\n",
    "import numpy as np\n",
    "\n",
    "bank_statement = pd.read_csv(\"./data/bankstatement_seyi.csv\")\n",
    "bank_statement.head()"
   ]
  },
  {
   "cell_type": "code",
   "execution_count": 2,
   "id": "e0f21314-4d12-41c4-b9b3-ca3bdec32890",
   "metadata": {},
   "outputs": [
    {
     "data": {
      "text/plain": [
       "4113"
      ]
     },
     "execution_count": 2,
     "metadata": {},
     "output_type": "execute_result"
    }
   ],
   "source": [
    "# Total number of rows in bank statement\n",
    "len(bank_statement)"
   ]
  },
  {
   "cell_type": "code",
   "execution_count": 3,
   "id": "569571a5-f2f1-4220-9a26-2ad7a2e224d6",
   "metadata": {},
   "outputs": [
    {
     "data": {
      "text/plain": [
       "DESCRIPTION    object\n",
       "TRX_TYPE       object\n",
       "CLASS          object\n",
       "SUB-CLASS      object\n",
       "BANK           object\n",
       "dtype: object"
      ]
     },
     "execution_count": 3,
     "metadata": {},
     "output_type": "execute_result"
    }
   ],
   "source": [
    "bank_statement.dtypes"
   ]
  },
  {
   "attachments": {},
   "cell_type": "markdown",
   "id": "d59a0c24-e5ae-488b-92e5-62759739796c",
   "metadata": {},
   "source": [
    "### 1a. Drop N/A columns"
   ]
  },
  {
   "cell_type": "code",
   "execution_count": 4,
   "id": "fe69474d-af92-4e61-b761-a771b461d5c7",
   "metadata": {},
   "outputs": [
    {
     "data": {
      "text/plain": [
       "DESCRIPTION       2\n",
       "TRX_TYPE          4\n",
       "CLASS            13\n",
       "SUB-CLASS      1183\n",
       "BANK             10\n",
       "dtype: int64"
      ]
     },
     "execution_count": 4,
     "metadata": {},
     "output_type": "execute_result"
    }
   ],
   "source": [
    "# Identify Column With N/A values\n",
    "bank_statement.isna().sum()"
   ]
  },
  {
   "cell_type": "code",
   "execution_count": 5,
   "id": "1e70917f-6737-48de-be06-cfb781faa0b2",
   "metadata": {},
   "outputs": [
    {
     "data": {
      "text/html": [
       "<div>\n",
       "<style scoped>\n",
       "    .dataframe tbody tr th:only-of-type {\n",
       "        vertical-align: middle;\n",
       "    }\n",
       "\n",
       "    .dataframe tbody tr th {\n",
       "        vertical-align: top;\n",
       "    }\n",
       "\n",
       "    .dataframe thead th {\n",
       "        text-align: right;\n",
       "    }\n",
       "</style>\n",
       "<table border=\"1\" class=\"dataframe\">\n",
       "  <thead>\n",
       "    <tr style=\"text-align: right;\">\n",
       "      <th></th>\n",
       "      <th>DESCRIPTION</th>\n",
       "      <th>TRX_TYPE</th>\n",
       "      <th>CLASS</th>\n",
       "      <th>SUB-CLASS</th>\n",
       "      <th>BANK</th>\n",
       "    </tr>\n",
       "  </thead>\n",
       "  <tbody>\n",
       "    <tr>\n",
       "      <th>5</th>\n",
       "      <td>TRF/REFUND/FRMROTIMI EMMANUEL AKANNI TO KANU W...</td>\n",
       "      <td>Debit</td>\n",
       "      <td>APP_TRANSFER</td>\n",
       "      <td>REFUND</td>\n",
       "      <td>Access Bank</td>\n",
       "    </tr>\n",
       "    <tr>\n",
       "      <th>6</th>\n",
       "      <td>TRF/Meat pie/FRMROTIMI EMMANUEL AKANNI TO AKIN...</td>\n",
       "      <td>Debit</td>\n",
       "      <td>APP_TRANSFER</td>\n",
       "      <td>Meat pie</td>\n",
       "      <td>Access Bank</td>\n",
       "    </tr>\n",
       "    <tr>\n",
       "      <th>12</th>\n",
       "      <td>TRF/Fuel/FRMUFUOMA BENEDICTA MARCHIE TO ROTIMI...</td>\n",
       "      <td>Credit</td>\n",
       "      <td>APP_TRANSFER</td>\n",
       "      <td>Fuel</td>\n",
       "      <td>Access Bank</td>\n",
       "    </tr>\n",
       "    <tr>\n",
       "      <th>15</th>\n",
       "      <td>AIRTIME/ 9MOBILE/08179000904</td>\n",
       "      <td>Debit</td>\n",
       "      <td>UTILITY</td>\n",
       "      <td>Airtime</td>\n",
       "      <td>Access Bank</td>\n",
       "    </tr>\n",
       "    <tr>\n",
       "      <th>16</th>\n",
       "      <td>RVSL_AIRTIME/ 9MOBILE/08179000904</td>\n",
       "      <td>Credit</td>\n",
       "      <td>REFUND</td>\n",
       "      <td>Airtime</td>\n",
       "      <td>Access Bank</td>\n",
       "    </tr>\n",
       "  </tbody>\n",
       "</table>\n",
       "</div>"
      ],
      "text/plain": [
       "                                          DESCRIPTION TRX_TYPE         CLASS  \\\n",
       "5   TRF/REFUND/FRMROTIMI EMMANUEL AKANNI TO KANU W...    Debit  APP_TRANSFER   \n",
       "6   TRF/Meat pie/FRMROTIMI EMMANUEL AKANNI TO AKIN...    Debit  APP_TRANSFER   \n",
       "12  TRF/Fuel/FRMUFUOMA BENEDICTA MARCHIE TO ROTIMI...   Credit  APP_TRANSFER   \n",
       "15                       AIRTIME/ 9MOBILE/08179000904    Debit       UTILITY   \n",
       "16                  RVSL_AIRTIME/ 9MOBILE/08179000904   Credit        REFUND   \n",
       "\n",
       "   SUB-CLASS         BANK  \n",
       "5     REFUND  Access Bank  \n",
       "6   Meat pie  Access Bank  \n",
       "12      Fuel  Access Bank  \n",
       "15   Airtime  Access Bank  \n",
       "16   Airtime  Access Bank  "
      ]
     },
     "execution_count": 5,
     "metadata": {},
     "output_type": "execute_result"
    }
   ],
   "source": [
    "bank_statement.dropna(inplace=True)\n",
    "bank_statement.head()"
   ]
  },
  {
   "cell_type": "code",
   "execution_count": 6,
   "id": "c00484f1-6949-47dc-a31b-0b6f6a52018d",
   "metadata": {},
   "outputs": [
    {
     "data": {
      "text/plain": [
       "DESCRIPTION    0\n",
       "TRX_TYPE       0\n",
       "CLASS          0\n",
       "SUB-CLASS      0\n",
       "BANK           0\n",
       "dtype: int64"
      ]
     },
     "execution_count": 6,
     "metadata": {},
     "output_type": "execute_result"
    }
   ],
   "source": [
    "bank_statement.isna().sum()"
   ]
  },
  {
   "attachments": {},
   "cell_type": "markdown",
   "id": "70169a19-0490-4675-b6b6-3795297b40cf",
   "metadata": {},
   "source": [
    "### 1b.Removing Unnecessary Columns\n",
    "Remove unwanted columns, keeping only \"description\" and \"class\"."
   ]
  },
  {
   "cell_type": "code",
   "execution_count": 7,
   "id": "15331d4f-8db4-4c1d-bcbf-034bc6dd12a1",
   "metadata": {},
   "outputs": [
    {
     "data": {
      "text/html": [
       "<div>\n",
       "<style scoped>\n",
       "    .dataframe tbody tr th:only-of-type {\n",
       "        vertical-align: middle;\n",
       "    }\n",
       "\n",
       "    .dataframe tbody tr th {\n",
       "        vertical-align: top;\n",
       "    }\n",
       "\n",
       "    .dataframe thead th {\n",
       "        text-align: right;\n",
       "    }\n",
       "</style>\n",
       "<table border=\"1\" class=\"dataframe\">\n",
       "  <thead>\n",
       "    <tr style=\"text-align: right;\">\n",
       "      <th></th>\n",
       "      <th>DESCRIPTION</th>\n",
       "      <th>CLASS</th>\n",
       "      <th>SUB-CLASS</th>\n",
       "      <th>BANK</th>\n",
       "    </tr>\n",
       "  </thead>\n",
       "  <tbody>\n",
       "    <tr>\n",
       "      <th>5</th>\n",
       "      <td>TRF/REFUND/FRMROTIMI EMMANUEL AKANNI TO KANU W...</td>\n",
       "      <td>APP_TRANSFER</td>\n",
       "      <td>REFUND</td>\n",
       "      <td>Access Bank</td>\n",
       "    </tr>\n",
       "    <tr>\n",
       "      <th>6</th>\n",
       "      <td>TRF/Meat pie/FRMROTIMI EMMANUEL AKANNI TO AKIN...</td>\n",
       "      <td>APP_TRANSFER</td>\n",
       "      <td>Meat pie</td>\n",
       "      <td>Access Bank</td>\n",
       "    </tr>\n",
       "    <tr>\n",
       "      <th>12</th>\n",
       "      <td>TRF/Fuel/FRMUFUOMA BENEDICTA MARCHIE TO ROTIMI...</td>\n",
       "      <td>APP_TRANSFER</td>\n",
       "      <td>Fuel</td>\n",
       "      <td>Access Bank</td>\n",
       "    </tr>\n",
       "    <tr>\n",
       "      <th>15</th>\n",
       "      <td>AIRTIME/ 9MOBILE/08179000904</td>\n",
       "      <td>UTILITY</td>\n",
       "      <td>Airtime</td>\n",
       "      <td>Access Bank</td>\n",
       "    </tr>\n",
       "    <tr>\n",
       "      <th>16</th>\n",
       "      <td>RVSL_AIRTIME/ 9MOBILE/08179000904</td>\n",
       "      <td>REFUND</td>\n",
       "      <td>Airtime</td>\n",
       "      <td>Access Bank</td>\n",
       "    </tr>\n",
       "  </tbody>\n",
       "</table>\n",
       "</div>"
      ],
      "text/plain": [
       "                                          DESCRIPTION         CLASS SUB-CLASS  \\\n",
       "5   TRF/REFUND/FRMROTIMI EMMANUEL AKANNI TO KANU W...  APP_TRANSFER    REFUND   \n",
       "6   TRF/Meat pie/FRMROTIMI EMMANUEL AKANNI TO AKIN...  APP_TRANSFER  Meat pie   \n",
       "12  TRF/Fuel/FRMUFUOMA BENEDICTA MARCHIE TO ROTIMI...  APP_TRANSFER      Fuel   \n",
       "15                       AIRTIME/ 9MOBILE/08179000904       UTILITY   Airtime   \n",
       "16                  RVSL_AIRTIME/ 9MOBILE/08179000904        REFUND   Airtime   \n",
       "\n",
       "           BANK  \n",
       "5   Access Bank  \n",
       "6   Access Bank  \n",
       "12  Access Bank  \n",
       "15  Access Bank  \n",
       "16  Access Bank  "
      ]
     },
     "execution_count": 7,
     "metadata": {},
     "output_type": "execute_result"
    }
   ],
   "source": [
    "streamlined_bank_statement = bank_statement.drop(\"TRX_TYPE\", axis=1)\n",
    "streamlined_bank_statement.head()"
   ]
  },
  {
   "cell_type": "code",
   "execution_count": 8,
   "id": "329adca4-ffe7-4bd4-a58c-84ef174f3f86",
   "metadata": {},
   "outputs": [
    {
     "data": {
      "text/html": [
       "<div>\n",
       "<style scoped>\n",
       "    .dataframe tbody tr th:only-of-type {\n",
       "        vertical-align: middle;\n",
       "    }\n",
       "\n",
       "    .dataframe tbody tr th {\n",
       "        vertical-align: top;\n",
       "    }\n",
       "\n",
       "    .dataframe thead th {\n",
       "        text-align: right;\n",
       "    }\n",
       "</style>\n",
       "<table border=\"1\" class=\"dataframe\">\n",
       "  <thead>\n",
       "    <tr style=\"text-align: right;\">\n",
       "      <th></th>\n",
       "      <th>DESCRIPTION</th>\n",
       "      <th>CLASS</th>\n",
       "      <th>BANK</th>\n",
       "    </tr>\n",
       "  </thead>\n",
       "  <tbody>\n",
       "    <tr>\n",
       "      <th>5</th>\n",
       "      <td>TRF/REFUND/FRMROTIMI EMMANUEL AKANNI TO KANU W...</td>\n",
       "      <td>APP_TRANSFER</td>\n",
       "      <td>Access Bank</td>\n",
       "    </tr>\n",
       "    <tr>\n",
       "      <th>6</th>\n",
       "      <td>TRF/Meat pie/FRMROTIMI EMMANUEL AKANNI TO AKIN...</td>\n",
       "      <td>APP_TRANSFER</td>\n",
       "      <td>Access Bank</td>\n",
       "    </tr>\n",
       "    <tr>\n",
       "      <th>12</th>\n",
       "      <td>TRF/Fuel/FRMUFUOMA BENEDICTA MARCHIE TO ROTIMI...</td>\n",
       "      <td>APP_TRANSFER</td>\n",
       "      <td>Access Bank</td>\n",
       "    </tr>\n",
       "    <tr>\n",
       "      <th>15</th>\n",
       "      <td>AIRTIME/ 9MOBILE/08179000904</td>\n",
       "      <td>UTILITY</td>\n",
       "      <td>Access Bank</td>\n",
       "    </tr>\n",
       "    <tr>\n",
       "      <th>16</th>\n",
       "      <td>RVSL_AIRTIME/ 9MOBILE/08179000904</td>\n",
       "      <td>REFUND</td>\n",
       "      <td>Access Bank</td>\n",
       "    </tr>\n",
       "  </tbody>\n",
       "</table>\n",
       "</div>"
      ],
      "text/plain": [
       "                                          DESCRIPTION         CLASS  \\\n",
       "5   TRF/REFUND/FRMROTIMI EMMANUEL AKANNI TO KANU W...  APP_TRANSFER   \n",
       "6   TRF/Meat pie/FRMROTIMI EMMANUEL AKANNI TO AKIN...  APP_TRANSFER   \n",
       "12  TRF/Fuel/FRMUFUOMA BENEDICTA MARCHIE TO ROTIMI...  APP_TRANSFER   \n",
       "15                       AIRTIME/ 9MOBILE/08179000904       UTILITY   \n",
       "16                  RVSL_AIRTIME/ 9MOBILE/08179000904        REFUND   \n",
       "\n",
       "           BANK  \n",
       "5   Access Bank  \n",
       "6   Access Bank  \n",
       "12  Access Bank  \n",
       "15  Access Bank  \n",
       "16  Access Bank  "
      ]
     },
     "execution_count": 8,
     "metadata": {},
     "output_type": "execute_result"
    }
   ],
   "source": [
    "streamlined_bank_statement = streamlined_bank_statement.drop(\"SUB-CLASS\", axis=1)\n",
    "streamlined_bank_statement.head()"
   ]
  },
  {
   "cell_type": "code",
   "execution_count": 9,
   "id": "6347db98-c10c-4775-beb3-f28c9e4b4440",
   "metadata": {},
   "outputs": [
    {
     "data": {
      "text/html": [
       "<div>\n",
       "<style scoped>\n",
       "    .dataframe tbody tr th:only-of-type {\n",
       "        vertical-align: middle;\n",
       "    }\n",
       "\n",
       "    .dataframe tbody tr th {\n",
       "        vertical-align: top;\n",
       "    }\n",
       "\n",
       "    .dataframe thead th {\n",
       "        text-align: right;\n",
       "    }\n",
       "</style>\n",
       "<table border=\"1\" class=\"dataframe\">\n",
       "  <thead>\n",
       "    <tr style=\"text-align: right;\">\n",
       "      <th></th>\n",
       "      <th>DESCRIPTION</th>\n",
       "      <th>CLASS</th>\n",
       "    </tr>\n",
       "  </thead>\n",
       "  <tbody>\n",
       "    <tr>\n",
       "      <th>5</th>\n",
       "      <td>TRF/REFUND/FRMROTIMI EMMANUEL AKANNI TO KANU W...</td>\n",
       "      <td>APP_TRANSFER</td>\n",
       "    </tr>\n",
       "    <tr>\n",
       "      <th>6</th>\n",
       "      <td>TRF/Meat pie/FRMROTIMI EMMANUEL AKANNI TO AKIN...</td>\n",
       "      <td>APP_TRANSFER</td>\n",
       "    </tr>\n",
       "    <tr>\n",
       "      <th>12</th>\n",
       "      <td>TRF/Fuel/FRMUFUOMA BENEDICTA MARCHIE TO ROTIMI...</td>\n",
       "      <td>APP_TRANSFER</td>\n",
       "    </tr>\n",
       "    <tr>\n",
       "      <th>15</th>\n",
       "      <td>AIRTIME/ 9MOBILE/08179000904</td>\n",
       "      <td>UTILITY</td>\n",
       "    </tr>\n",
       "    <tr>\n",
       "      <th>16</th>\n",
       "      <td>RVSL_AIRTIME/ 9MOBILE/08179000904</td>\n",
       "      <td>REFUND</td>\n",
       "    </tr>\n",
       "  </tbody>\n",
       "</table>\n",
       "</div>"
      ],
      "text/plain": [
       "                                          DESCRIPTION         CLASS\n",
       "5   TRF/REFUND/FRMROTIMI EMMANUEL AKANNI TO KANU W...  APP_TRANSFER\n",
       "6   TRF/Meat pie/FRMROTIMI EMMANUEL AKANNI TO AKIN...  APP_TRANSFER\n",
       "12  TRF/Fuel/FRMUFUOMA BENEDICTA MARCHIE TO ROTIMI...  APP_TRANSFER\n",
       "15                       AIRTIME/ 9MOBILE/08179000904       UTILITY\n",
       "16                  RVSL_AIRTIME/ 9MOBILE/08179000904        REFUND"
      ]
     },
     "execution_count": 9,
     "metadata": {},
     "output_type": "execute_result"
    }
   ],
   "source": [
    "streamlined_bank_statement = streamlined_bank_statement.drop(\"BANK\", axis=1)\n",
    "streamlined_bank_statement.head()"
   ]
  },
  {
   "cell_type": "code",
   "execution_count": 10,
   "id": "913c507f-45c4-4645-9ea6-fa5bcae363a1",
   "metadata": {},
   "outputs": [
    {
     "data": {
      "text/plain": [
       "2916"
      ]
     },
     "execution_count": 10,
     "metadata": {},
     "output_type": "execute_result"
    }
   ],
   "source": [
    "# Check Number of Rows\n",
    "len(streamlined_bank_statement)\n"
   ]
  },
  {
   "cell_type": "code",
   "execution_count": 11,
   "id": "de2b826a-915f-4936-9a3c-8ef4a70ed297",
   "metadata": {},
   "outputs": [
    {
     "data": {
      "text/plain": [
       "DESCRIPTION    0\n",
       "CLASS          0\n",
       "dtype: int64"
      ]
     },
     "execution_count": 11,
     "metadata": {},
     "output_type": "execute_result"
    }
   ],
   "source": [
    "streamlined_bank_statement.isna().sum()"
   ]
  },
  {
   "attachments": {},
   "cell_type": "markdown",
   "id": "4a5db8dd-308a-44fb-bcf5-a95390d10ada",
   "metadata": {},
   "source": [
    "### 1c. Rename Columns"
   ]
  },
  {
   "cell_type": "code",
   "execution_count": 12,
   "id": "3520691e-d689-4793-98d2-8079195eba2f",
   "metadata": {},
   "outputs": [
    {
     "data": {
      "text/html": [
       "<div>\n",
       "<style scoped>\n",
       "    .dataframe tbody tr th:only-of-type {\n",
       "        vertical-align: middle;\n",
       "    }\n",
       "\n",
       "    .dataframe tbody tr th {\n",
       "        vertical-align: top;\n",
       "    }\n",
       "\n",
       "    .dataframe thead th {\n",
       "        text-align: right;\n",
       "    }\n",
       "</style>\n",
       "<table border=\"1\" class=\"dataframe\">\n",
       "  <thead>\n",
       "    <tr style=\"text-align: right;\">\n",
       "      <th></th>\n",
       "      <th>DESCRIPTION</th>\n",
       "      <th>CLASS</th>\n",
       "      <th>txn_description</th>\n",
       "    </tr>\n",
       "  </thead>\n",
       "  <tbody>\n",
       "    <tr>\n",
       "      <th>5</th>\n",
       "      <td>TRF/REFUND/FRMROTIMI EMMANUEL AKANNI TO KANU W...</td>\n",
       "      <td>APP_TRANSFER</td>\n",
       "      <td>TRF/REFUND/FRMROTIMI EMMANUEL AKANNI TO KANU W...</td>\n",
       "    </tr>\n",
       "    <tr>\n",
       "      <th>6</th>\n",
       "      <td>TRF/Meat pie/FRMROTIMI EMMANUEL AKANNI TO AKIN...</td>\n",
       "      <td>APP_TRANSFER</td>\n",
       "      <td>TRF/Meat pie/FRMROTIMI EMMANUEL AKANNI TO AKIN...</td>\n",
       "    </tr>\n",
       "    <tr>\n",
       "      <th>12</th>\n",
       "      <td>TRF/Fuel/FRMUFUOMA BENEDICTA MARCHIE TO ROTIMI...</td>\n",
       "      <td>APP_TRANSFER</td>\n",
       "      <td>TRF/Fuel/FRMUFUOMA BENEDICTA MARCHIE TO ROTIMI...</td>\n",
       "    </tr>\n",
       "    <tr>\n",
       "      <th>15</th>\n",
       "      <td>AIRTIME/ 9MOBILE/08179000904</td>\n",
       "      <td>UTILITY</td>\n",
       "      <td>AIRTIME/ 9MOBILE/08179000904</td>\n",
       "    </tr>\n",
       "    <tr>\n",
       "      <th>16</th>\n",
       "      <td>RVSL_AIRTIME/ 9MOBILE/08179000904</td>\n",
       "      <td>REFUND</td>\n",
       "      <td>RVSL_AIRTIME/ 9MOBILE/08179000904</td>\n",
       "    </tr>\n",
       "  </tbody>\n",
       "</table>\n",
       "</div>"
      ],
      "text/plain": [
       "                                          DESCRIPTION         CLASS  \\\n",
       "5   TRF/REFUND/FRMROTIMI EMMANUEL AKANNI TO KANU W...  APP_TRANSFER   \n",
       "6   TRF/Meat pie/FRMROTIMI EMMANUEL AKANNI TO AKIN...  APP_TRANSFER   \n",
       "12  TRF/Fuel/FRMUFUOMA BENEDICTA MARCHIE TO ROTIMI...  APP_TRANSFER   \n",
       "15                       AIRTIME/ 9MOBILE/08179000904       UTILITY   \n",
       "16                  RVSL_AIRTIME/ 9MOBILE/08179000904        REFUND   \n",
       "\n",
       "                                      txn_description  \n",
       "5   TRF/REFUND/FRMROTIMI EMMANUEL AKANNI TO KANU W...  \n",
       "6   TRF/Meat pie/FRMROTIMI EMMANUEL AKANNI TO AKIN...  \n",
       "12  TRF/Fuel/FRMUFUOMA BENEDICTA MARCHIE TO ROTIMI...  \n",
       "15                       AIRTIME/ 9MOBILE/08179000904  \n",
       "16                  RVSL_AIRTIME/ 9MOBILE/08179000904  "
      ]
     },
     "execution_count": 12,
     "metadata": {},
     "output_type": "execute_result"
    }
   ],
   "source": [
    "streamlined_bank_statement['txn_description'] = streamlined_bank_statement['DESCRIPTION']\n",
    "streamlined_bank_statement.head()"
   ]
  },
  {
   "cell_type": "code",
   "execution_count": 13,
   "id": "2e9ff5e4-70bb-4c8d-a1ce-95117615ea2e",
   "metadata": {},
   "outputs": [
    {
     "data": {
      "text/html": [
       "<div>\n",
       "<style scoped>\n",
       "    .dataframe tbody tr th:only-of-type {\n",
       "        vertical-align: middle;\n",
       "    }\n",
       "\n",
       "    .dataframe tbody tr th {\n",
       "        vertical-align: top;\n",
       "    }\n",
       "\n",
       "    .dataframe thead th {\n",
       "        text-align: right;\n",
       "    }\n",
       "</style>\n",
       "<table border=\"1\" class=\"dataframe\">\n",
       "  <thead>\n",
       "    <tr style=\"text-align: right;\">\n",
       "      <th></th>\n",
       "      <th>DESCRIPTION</th>\n",
       "      <th>CLASS</th>\n",
       "      <th>txn_description</th>\n",
       "      <th>target</th>\n",
       "    </tr>\n",
       "  </thead>\n",
       "  <tbody>\n",
       "    <tr>\n",
       "      <th>5</th>\n",
       "      <td>TRF/REFUND/FRMROTIMI EMMANUEL AKANNI TO KANU W...</td>\n",
       "      <td>APP_TRANSFER</td>\n",
       "      <td>TRF/REFUND/FRMROTIMI EMMANUEL AKANNI TO KANU W...</td>\n",
       "      <td>APP_TRANSFER</td>\n",
       "    </tr>\n",
       "    <tr>\n",
       "      <th>6</th>\n",
       "      <td>TRF/Meat pie/FRMROTIMI EMMANUEL AKANNI TO AKIN...</td>\n",
       "      <td>APP_TRANSFER</td>\n",
       "      <td>TRF/Meat pie/FRMROTIMI EMMANUEL AKANNI TO AKIN...</td>\n",
       "      <td>APP_TRANSFER</td>\n",
       "    </tr>\n",
       "    <tr>\n",
       "      <th>12</th>\n",
       "      <td>TRF/Fuel/FRMUFUOMA BENEDICTA MARCHIE TO ROTIMI...</td>\n",
       "      <td>APP_TRANSFER</td>\n",
       "      <td>TRF/Fuel/FRMUFUOMA BENEDICTA MARCHIE TO ROTIMI...</td>\n",
       "      <td>APP_TRANSFER</td>\n",
       "    </tr>\n",
       "    <tr>\n",
       "      <th>15</th>\n",
       "      <td>AIRTIME/ 9MOBILE/08179000904</td>\n",
       "      <td>UTILITY</td>\n",
       "      <td>AIRTIME/ 9MOBILE/08179000904</td>\n",
       "      <td>UTILITY</td>\n",
       "    </tr>\n",
       "    <tr>\n",
       "      <th>16</th>\n",
       "      <td>RVSL_AIRTIME/ 9MOBILE/08179000904</td>\n",
       "      <td>REFUND</td>\n",
       "      <td>RVSL_AIRTIME/ 9MOBILE/08179000904</td>\n",
       "      <td>REFUND</td>\n",
       "    </tr>\n",
       "  </tbody>\n",
       "</table>\n",
       "</div>"
      ],
      "text/plain": [
       "                                          DESCRIPTION         CLASS  \\\n",
       "5   TRF/REFUND/FRMROTIMI EMMANUEL AKANNI TO KANU W...  APP_TRANSFER   \n",
       "6   TRF/Meat pie/FRMROTIMI EMMANUEL AKANNI TO AKIN...  APP_TRANSFER   \n",
       "12  TRF/Fuel/FRMUFUOMA BENEDICTA MARCHIE TO ROTIMI...  APP_TRANSFER   \n",
       "15                       AIRTIME/ 9MOBILE/08179000904       UTILITY   \n",
       "16                  RVSL_AIRTIME/ 9MOBILE/08179000904        REFUND   \n",
       "\n",
       "                                      txn_description        target  \n",
       "5   TRF/REFUND/FRMROTIMI EMMANUEL AKANNI TO KANU W...  APP_TRANSFER  \n",
       "6   TRF/Meat pie/FRMROTIMI EMMANUEL AKANNI TO AKIN...  APP_TRANSFER  \n",
       "12  TRF/Fuel/FRMUFUOMA BENEDICTA MARCHIE TO ROTIMI...  APP_TRANSFER  \n",
       "15                       AIRTIME/ 9MOBILE/08179000904       UTILITY  \n",
       "16                  RVSL_AIRTIME/ 9MOBILE/08179000904        REFUND  "
      ]
     },
     "execution_count": 13,
     "metadata": {},
     "output_type": "execute_result"
    }
   ],
   "source": [
    "streamlined_bank_statement['target'] = streamlined_bank_statement['CLASS']\n",
    "streamlined_bank_statement.head()"
   ]
  },
  {
   "cell_type": "code",
   "execution_count": 14,
   "id": "b2eb30f8-ae81-4777-a06f-a1ece8cc3ed6",
   "metadata": {},
   "outputs": [
    {
     "data": {
      "text/html": [
       "<div>\n",
       "<style scoped>\n",
       "    .dataframe tbody tr th:only-of-type {\n",
       "        vertical-align: middle;\n",
       "    }\n",
       "\n",
       "    .dataframe tbody tr th {\n",
       "        vertical-align: top;\n",
       "    }\n",
       "\n",
       "    .dataframe thead th {\n",
       "        text-align: right;\n",
       "    }\n",
       "</style>\n",
       "<table border=\"1\" class=\"dataframe\">\n",
       "  <thead>\n",
       "    <tr style=\"text-align: right;\">\n",
       "      <th></th>\n",
       "      <th>CLASS</th>\n",
       "      <th>txn_description</th>\n",
       "      <th>target</th>\n",
       "    </tr>\n",
       "  </thead>\n",
       "  <tbody>\n",
       "    <tr>\n",
       "      <th>5</th>\n",
       "      <td>APP_TRANSFER</td>\n",
       "      <td>TRF/REFUND/FRMROTIMI EMMANUEL AKANNI TO KANU W...</td>\n",
       "      <td>APP_TRANSFER</td>\n",
       "    </tr>\n",
       "    <tr>\n",
       "      <th>6</th>\n",
       "      <td>APP_TRANSFER</td>\n",
       "      <td>TRF/Meat pie/FRMROTIMI EMMANUEL AKANNI TO AKIN...</td>\n",
       "      <td>APP_TRANSFER</td>\n",
       "    </tr>\n",
       "    <tr>\n",
       "      <th>12</th>\n",
       "      <td>APP_TRANSFER</td>\n",
       "      <td>TRF/Fuel/FRMUFUOMA BENEDICTA MARCHIE TO ROTIMI...</td>\n",
       "      <td>APP_TRANSFER</td>\n",
       "    </tr>\n",
       "    <tr>\n",
       "      <th>15</th>\n",
       "      <td>UTILITY</td>\n",
       "      <td>AIRTIME/ 9MOBILE/08179000904</td>\n",
       "      <td>UTILITY</td>\n",
       "    </tr>\n",
       "    <tr>\n",
       "      <th>16</th>\n",
       "      <td>REFUND</td>\n",
       "      <td>RVSL_AIRTIME/ 9MOBILE/08179000904</td>\n",
       "      <td>REFUND</td>\n",
       "    </tr>\n",
       "  </tbody>\n",
       "</table>\n",
       "</div>"
      ],
      "text/plain": [
       "           CLASS                                    txn_description  \\\n",
       "5   APP_TRANSFER  TRF/REFUND/FRMROTIMI EMMANUEL AKANNI TO KANU W...   \n",
       "6   APP_TRANSFER  TRF/Meat pie/FRMROTIMI EMMANUEL AKANNI TO AKIN...   \n",
       "12  APP_TRANSFER  TRF/Fuel/FRMUFUOMA BENEDICTA MARCHIE TO ROTIMI...   \n",
       "15       UTILITY                       AIRTIME/ 9MOBILE/08179000904   \n",
       "16        REFUND                  RVSL_AIRTIME/ 9MOBILE/08179000904   \n",
       "\n",
       "          target  \n",
       "5   APP_TRANSFER  \n",
       "6   APP_TRANSFER  \n",
       "12  APP_TRANSFER  \n",
       "15       UTILITY  \n",
       "16        REFUND  "
      ]
     },
     "execution_count": 14,
     "metadata": {},
     "output_type": "execute_result"
    }
   ],
   "source": [
    "streamlined_bank_statement = streamlined_bank_statement.drop(\"DESCRIPTION\", axis=1)\n",
    "streamlined_bank_statement.head()"
   ]
  },
  {
   "cell_type": "code",
   "execution_count": 15,
   "id": "221b23c6-e8c2-4c84-bb20-2de3448d9641",
   "metadata": {},
   "outputs": [
    {
     "data": {
      "text/html": [
       "<div>\n",
       "<style scoped>\n",
       "    .dataframe tbody tr th:only-of-type {\n",
       "        vertical-align: middle;\n",
       "    }\n",
       "\n",
       "    .dataframe tbody tr th {\n",
       "        vertical-align: top;\n",
       "    }\n",
       "\n",
       "    .dataframe thead th {\n",
       "        text-align: right;\n",
       "    }\n",
       "</style>\n",
       "<table border=\"1\" class=\"dataframe\">\n",
       "  <thead>\n",
       "    <tr style=\"text-align: right;\">\n",
       "      <th></th>\n",
       "      <th>txn_description</th>\n",
       "      <th>target</th>\n",
       "    </tr>\n",
       "  </thead>\n",
       "  <tbody>\n",
       "    <tr>\n",
       "      <th>5</th>\n",
       "      <td>TRF/REFUND/FRMROTIMI EMMANUEL AKANNI TO KANU W...</td>\n",
       "      <td>APP_TRANSFER</td>\n",
       "    </tr>\n",
       "    <tr>\n",
       "      <th>6</th>\n",
       "      <td>TRF/Meat pie/FRMROTIMI EMMANUEL AKANNI TO AKIN...</td>\n",
       "      <td>APP_TRANSFER</td>\n",
       "    </tr>\n",
       "    <tr>\n",
       "      <th>12</th>\n",
       "      <td>TRF/Fuel/FRMUFUOMA BENEDICTA MARCHIE TO ROTIMI...</td>\n",
       "      <td>APP_TRANSFER</td>\n",
       "    </tr>\n",
       "    <tr>\n",
       "      <th>15</th>\n",
       "      <td>AIRTIME/ 9MOBILE/08179000904</td>\n",
       "      <td>UTILITY</td>\n",
       "    </tr>\n",
       "    <tr>\n",
       "      <th>16</th>\n",
       "      <td>RVSL_AIRTIME/ 9MOBILE/08179000904</td>\n",
       "      <td>REFUND</td>\n",
       "    </tr>\n",
       "  </tbody>\n",
       "</table>\n",
       "</div>"
      ],
      "text/plain": [
       "                                      txn_description        target\n",
       "5   TRF/REFUND/FRMROTIMI EMMANUEL AKANNI TO KANU W...  APP_TRANSFER\n",
       "6   TRF/Meat pie/FRMROTIMI EMMANUEL AKANNI TO AKIN...  APP_TRANSFER\n",
       "12  TRF/Fuel/FRMUFUOMA BENEDICTA MARCHIE TO ROTIMI...  APP_TRANSFER\n",
       "15                       AIRTIME/ 9MOBILE/08179000904       UTILITY\n",
       "16                  RVSL_AIRTIME/ 9MOBILE/08179000904        REFUND"
      ]
     },
     "execution_count": 15,
     "metadata": {},
     "output_type": "execute_result"
    }
   ],
   "source": [
    "streamlined_bank_statement = streamlined_bank_statement.drop(\"CLASS\", axis=1)\n",
    "streamlined_bank_statement.head()"
   ]
  },
  {
   "cell_type": "code",
   "execution_count": 16,
   "id": "3e9951c6-1e3f-4168-a837-dd1fcc8bd30e",
   "metadata": {},
   "outputs": [],
   "source": [
    "# Save Refined data as csv\n",
    "streamlined_bank_statement.to_csv(\"./data/streamlined_bank_statement.csv\", index=False)"
   ]
  },
  {
   "attachments": {},
   "cell_type": "markdown",
   "id": "6aae7265-fdb4-43d7-9aed-1e087c6f90ed",
   "metadata": {},
   "source": [
    "### 1c. Convert target object to Int"
   ]
  },
  {
   "cell_type": "code",
   "execution_count": 17,
   "id": "6feb411b-9e34-4a88-986b-29f2d97070ee",
   "metadata": {},
   "outputs": [],
   "source": [
    "LABELS = {\n",
    "    'AGENT_WITHDRAWAL': 0,\n",
    "    'APP_TRANSFER': 1,\n",
    "    'ATM': 2,\n",
    "    'BANK TRANSFER': 3,\n",
    "    'BANK_CHARGES': 4,\n",
    "    'CASH_WITHDRAWAL': 6,\n",
    "    'Class': 7,\n",
    "    'DEBIT': 8,\n",
    "    'LOAN': 9,\n",
    "    'ONLINE_TRANSFER': 10,\n",
    "    'POS': 11,\n",
    "    'REFUND': 12,\n",
    "    'SALARY': 13,\n",
    "    'TAX': 14,\n",
    "    'USSD_TRANSFER': 15,\n",
    "    'UTILITY': 16\n",
    "}"
   ]
  },
  {
   "cell_type": "code",
   "execution_count": 18,
   "id": "6bff13d1-37c1-4a64-bf07-4e455f6d1a2d",
   "metadata": {},
   "outputs": [
    {
     "data": {
      "text/plain": [
       "txn_description    0\n",
       "target             0\n",
       "dtype: int64"
      ]
     },
     "execution_count": 18,
     "metadata": {},
     "output_type": "execute_result"
    }
   ],
   "source": [
    "streamlined_bank_statement.isna().sum()"
   ]
  },
  {
   "cell_type": "code",
   "execution_count": 19,
   "id": "3df1b4a6-0a52-46a7-b811-c145199763ff",
   "metadata": {},
   "outputs": [
    {
     "data": {
      "text/html": [
       "<div>\n",
       "<style scoped>\n",
       "    .dataframe tbody tr th:only-of-type {\n",
       "        vertical-align: middle;\n",
       "    }\n",
       "\n",
       "    .dataframe tbody tr th {\n",
       "        vertical-align: top;\n",
       "    }\n",
       "\n",
       "    .dataframe thead th {\n",
       "        text-align: right;\n",
       "    }\n",
       "</style>\n",
       "<table border=\"1\" class=\"dataframe\">\n",
       "  <thead>\n",
       "    <tr style=\"text-align: right;\">\n",
       "      <th></th>\n",
       "      <th>txn_description</th>\n",
       "      <th>target</th>\n",
       "    </tr>\n",
       "  </thead>\n",
       "  <tbody>\n",
       "    <tr>\n",
       "      <th>5</th>\n",
       "      <td>TRF/REFUND/FRMROTIMI EMMANUEL AKANNI TO KANU W...</td>\n",
       "      <td>1.0</td>\n",
       "    </tr>\n",
       "    <tr>\n",
       "      <th>6</th>\n",
       "      <td>TRF/Meat pie/FRMROTIMI EMMANUEL AKANNI TO AKIN...</td>\n",
       "      <td>1.0</td>\n",
       "    </tr>\n",
       "    <tr>\n",
       "      <th>12</th>\n",
       "      <td>TRF/Fuel/FRMUFUOMA BENEDICTA MARCHIE TO ROTIMI...</td>\n",
       "      <td>1.0</td>\n",
       "    </tr>\n",
       "    <tr>\n",
       "      <th>15</th>\n",
       "      <td>AIRTIME/ 9MOBILE/08179000904</td>\n",
       "      <td>16.0</td>\n",
       "    </tr>\n",
       "    <tr>\n",
       "      <th>16</th>\n",
       "      <td>RVSL_AIRTIME/ 9MOBILE/08179000904</td>\n",
       "      <td>12.0</td>\n",
       "    </tr>\n",
       "  </tbody>\n",
       "</table>\n",
       "</div>"
      ],
      "text/plain": [
       "                                      txn_description  target\n",
       "5   TRF/REFUND/FRMROTIMI EMMANUEL AKANNI TO KANU W...     1.0\n",
       "6   TRF/Meat pie/FRMROTIMI EMMANUEL AKANNI TO AKIN...     1.0\n",
       "12  TRF/Fuel/FRMUFUOMA BENEDICTA MARCHIE TO ROTIMI...     1.0\n",
       "15                       AIRTIME/ 9MOBILE/08179000904    16.0\n",
       "16                  RVSL_AIRTIME/ 9MOBILE/08179000904    12.0"
      ]
     },
     "execution_count": 19,
     "metadata": {},
     "output_type": "execute_result"
    }
   ],
   "source": [
    "streamlined_bank_statement['target'] = streamlined_bank_statement['target'].map(LABELS)\n",
    "streamlined_bank_statement.head()"
   ]
  },
  {
   "cell_type": "code",
   "execution_count": 20,
   "id": "39ad10f4-995e-4dcf-b62e-225bb2db851b",
   "metadata": {},
   "outputs": [
    {
     "data": {
      "text/plain": [
       "txn_description      0\n",
       "target             242\n",
       "dtype: int64"
      ]
     },
     "execution_count": 20,
     "metadata": {},
     "output_type": "execute_result"
    }
   ],
   "source": [
    "streamlined_bank_statement.isna().sum()"
   ]
  },
  {
   "cell_type": "code",
   "execution_count": 21,
   "id": "40720580-8c1a-460b-8b8a-02253b75d4e4",
   "metadata": {},
   "outputs": [],
   "source": [
    "streamlined_bank_statement.dropna(inplace=True)"
   ]
  },
  {
   "cell_type": "code",
   "execution_count": 22,
   "id": "e9324ce6-f676-4eb2-aa95-3169d59356d7",
   "metadata": {},
   "outputs": [
    {
     "data": {
      "text/plain": [
       "txn_description    0\n",
       "target             0\n",
       "dtype: int64"
      ]
     },
     "execution_count": 22,
     "metadata": {},
     "output_type": "execute_result"
    }
   ],
   "source": [
    "streamlined_bank_statement.isna().sum()"
   ]
  },
  {
   "cell_type": "code",
   "execution_count": 23,
   "id": "009300c6-91bf-47b1-ac6f-fb3fc718661f",
   "metadata": {},
   "outputs": [
    {
     "data": {
      "text/plain": [
       "2674"
      ]
     },
     "execution_count": 23,
     "metadata": {},
     "output_type": "execute_result"
    }
   ],
   "source": [
    "len(streamlined_bank_statement)"
   ]
  },
  {
   "attachments": {},
   "cell_type": "markdown",
   "id": "d21b2fd0-1516-4258-a9ec-5aee5ab797f0",
   "metadata": {},
   "source": [
    "### 1c. Shuffle Data"
   ]
  },
  {
   "cell_type": "code",
   "execution_count": 24,
   "id": "f321ccd6-d926-40a4-93f1-84f42b054d4f",
   "metadata": {},
   "outputs": [],
   "source": [
    "streamlined_bank_statement = streamlined_bank_statement.sample(frac=1, random_state=42)"
   ]
  },
  {
   "attachments": {},
   "cell_type": "markdown",
   "id": "8408a867-8475-4773-b2ca-dd6360630720",
   "metadata": {},
   "source": [
    "### 1d. Split Data into X/y"
   ]
  },
  {
   "cell_type": "code",
   "execution_count": 25,
   "id": "a3d7d96e-9ed6-44ca-89b4-ff4577c73bb7",
   "metadata": {},
   "outputs": [],
   "source": [
    "X = streamlined_bank_statement.drop(\"target\", axis=1)\n",
    "y = streamlined_bank_statement[\"target\"]"
   ]
  },
  {
   "attachments": {},
   "cell_type": "markdown",
   "id": "0e625ef9-6b35-4813-b965-bc3aef7517de",
   "metadata": {},
   "source": [
    "### 1e. Convert txn_description object to Int using TF-IDF vectorizer"
   ]
  },
  {
   "cell_type": "code",
   "execution_count": 26,
   "id": "ee333175-705b-42f0-8ec3-816e0fd97e38",
   "metadata": {},
   "outputs": [
    {
     "data": {
      "text/plain": [
       "<2674x4143 sparse matrix of type '<class 'numpy.float64'>'\n",
       "\twith 30185 stored elements in Compressed Sparse Row format>"
      ]
     },
     "execution_count": 26,
     "metadata": {},
     "output_type": "execute_result"
    }
   ],
   "source": [
    "from sklearn.feature_extraction.text import TfidfVectorizer\n",
    "\n",
    "tfidf_vectorizer = TfidfVectorizer()\n",
    "tfidf_vectorizer.fit(X['txn_description'])\n",
    "transformed_X = tfidf_vectorizer.transform(X['txn_description'])\n",
    "transformed_X\n",
    "\n"
   ]
  },
  {
   "attachments": {},
   "cell_type": "markdown",
   "id": "93ee3c09-c5bf-443e-84b3-571ede5b1bfa",
   "metadata": {},
   "source": [
    "### 1f. Check how many rows we now have"
   ]
  },
  {
   "cell_type": "code",
   "execution_count": 27,
   "id": "af66971c-2cee-461e-858a-b9626c38aa34",
   "metadata": {},
   "outputs": [
    {
     "data": {
      "text/plain": [
       "(2674, 2674)"
      ]
     },
     "execution_count": 27,
     "metadata": {},
     "output_type": "execute_result"
    }
   ],
   "source": [
    "len(y), len(X)"
   ]
  },
  {
   "attachments": {},
   "cell_type": "markdown",
   "id": "9b61604b-d23f-45e2-8728-9e5bf190ebff",
   "metadata": {},
   "source": [
    "### 1g. Check for N/A"
   ]
  },
  {
   "cell_type": "code",
   "execution_count": 28,
   "id": "023b49ea-554e-449c-a387-a62eddb12dfd",
   "metadata": {},
   "outputs": [
    {
     "data": {
      "text/plain": [
       "0"
      ]
     },
     "execution_count": 28,
     "metadata": {},
     "output_type": "execute_result"
    }
   ],
   "source": [
    "y.isna().sum()"
   ]
  },
  {
   "cell_type": "code",
   "execution_count": 29,
   "id": "f5c8d8a9-a6cf-4872-b072-cc87383a1e9b",
   "metadata": {},
   "outputs": [
    {
     "data": {
      "text/plain": [
       "txn_description    0\n",
       "dtype: int64"
      ]
     },
     "execution_count": 29,
     "metadata": {},
     "output_type": "execute_result"
    }
   ],
   "source": [
    "X.isna().sum()"
   ]
  },
  {
   "attachments": {},
   "cell_type": "markdown",
   "id": "bfc2cd68-11e6-435f-bbda-205a7212499b",
   "metadata": {},
   "source": [
    "## 2. choosing the right estimator/algorithm for your problem\n",
    "Using:https://scikit-learn.org/stable/tutorial/machine_learning_map/index.html as a roadmap to picking a model, Our options are:\n",
    "- Linear SVC\n",
    "- KNeighbors Classifier\n",
    "- Ensemble Classifier\n"
   ]
  },
  {
   "attachments": {},
   "cell_type": "markdown",
   "id": "b755cf0d-f82e-4384-8404-2b8e206f4880",
   "metadata": {},
   "source": [
    "## 3. Fit the model/algorithm and use it to make predictions on our data"
   ]
  },
  {
   "attachments": {},
   "cell_type": "markdown",
   "id": "206eed60-1ea0-421d-858e-bef6de50f792",
   "metadata": {},
   "source": [
    "##### 3a. In this step, we split the data into training and testing sets, allocating 80% for training and 20% for testing."
   ]
  },
  {
   "cell_type": "code",
   "execution_count": 30,
   "id": "b99647a2-fd48-422f-992e-aa2ca5287e1e",
   "metadata": {},
   "outputs": [],
   "source": [
    "from sklearn.model_selection import train_test_split\n",
    "X_train, X_test, y_train, y_test = train_test_split(transformed_X, y, test_size=0.2)"
   ]
  },
  {
   "attachments": {},
   "cell_type": "markdown",
   "id": "9276f48a-5431-4d3b-a4d5-2a7487961c7c",
   "metadata": {},
   "source": [
    "#### 3a. Linear SVC"
   ]
  },
  {
   "cell_type": "code",
   "execution_count": 31,
   "id": "9476a4ef-9c2d-4d53-a282-d50de019f0fc",
   "metadata": {},
   "outputs": [
    {
     "data": {
      "text/plain": [
       "0.9887850467289719"
      ]
     },
     "execution_count": 31,
     "metadata": {},
     "output_type": "execute_result"
    }
   ],
   "source": [
    "from sklearn.svm import LinearSVC\n",
    "\n",
    "#set up random seed\n",
    "np.random.seed(42)\n",
    "linear_svc_clf = LinearSVC(max_iter=10000, dual='auto')\n",
    "linear_svc_clf.fit(X_train, y_train)\n",
    "\n",
    "# Evaluate LinearSVC\n",
    "linear_svc_clf.score(X_test, y_test)"
   ]
  },
  {
   "cell_type": "code",
   "execution_count": 32,
   "id": "70c4b3a1-9d19-457f-8c16-021b9d7ac649",
   "metadata": {},
   "outputs": [
    {
     "name": "stdout",
     "output_type": "stream",
     "text": [
      "Trying LinearSVC with 10 max_iter\n",
      " Model accuracy on test set: 98.88%\n",
      "\n",
      "Trying LinearSVC with 11 max_iter\n",
      " Model accuracy on test set: 98.88%\n",
      "\n",
      "Trying LinearSVC with 12 max_iter\n",
      " Model accuracy on test set: 98.88%\n",
      "\n",
      "Trying LinearSVC with 13 max_iter\n",
      " Model accuracy on test set: 98.88%\n",
      "\n",
      "Trying LinearSVC with 14 max_iter\n",
      " Model accuracy on test set: 98.88%\n",
      "\n",
      "Trying LinearSVC with 15 max_iter\n",
      " Model accuracy on test set: 98.88%\n",
      "\n",
      "Trying LinearSVC with 16 max_iter\n",
      " Model accuracy on test set: 98.88%\n",
      "\n",
      "Trying LinearSVC with 17 max_iter\n",
      " Model accuracy on test set: 98.88%\n",
      "\n",
      "Trying LinearSVC with 18 max_iter\n",
      " Model accuracy on test set: 98.88%\n",
      "\n",
      "Trying LinearSVC with 19 max_iter\n",
      " Model accuracy on test set: 98.88%\n",
      "\n",
      "Trying LinearSVC with 20 max_iter\n",
      " Model accuracy on test set: 98.88%\n",
      "\n",
      "Trying LinearSVC with 21 max_iter\n",
      " Model accuracy on test set: 98.88%\n",
      "\n",
      "Trying LinearSVC with 22 max_iter\n",
      " Model accuracy on test set: 98.88%\n",
      "\n",
      "Trying LinearSVC with 23 max_iter\n",
      " Model accuracy on test set: 98.88%\n",
      "\n",
      "Trying LinearSVC with 24 max_iter\n",
      " Model accuracy on test set: 98.88%\n",
      "\n",
      "Trying LinearSVC with 25 max_iter\n",
      " Model accuracy on test set: 98.88%\n",
      "\n",
      "Trying LinearSVC with 26 max_iter\n",
      " Model accuracy on test set: 98.88%\n",
      "\n",
      "Trying LinearSVC with 27 max_iter\n",
      " Model accuracy on test set: 98.88%\n",
      "\n",
      "Trying LinearSVC with 28 max_iter\n",
      " Model accuracy on test set: 98.88%\n",
      "\n",
      "Trying LinearSVC with 29 max_iter\n"
     ]
    },
    {
     "name": "stderr",
     "output_type": "stream",
     "text": [
      "/Users/oluwatomisinjames/Ml-course/sample-project2/env/lib/python3.12/site-packages/sklearn/svm/_base.py:1242: ConvergenceWarning: Liblinear failed to converge, increase the number of iterations.\n",
      "  warnings.warn(\n",
      "/Users/oluwatomisinjames/Ml-course/sample-project2/env/lib/python3.12/site-packages/sklearn/svm/_base.py:1242: ConvergenceWarning: Liblinear failed to converge, increase the number of iterations.\n",
      "  warnings.warn(\n",
      "/Users/oluwatomisinjames/Ml-course/sample-project2/env/lib/python3.12/site-packages/sklearn/svm/_base.py:1242: ConvergenceWarning: Liblinear failed to converge, increase the number of iterations.\n",
      "  warnings.warn(\n",
      "/Users/oluwatomisinjames/Ml-course/sample-project2/env/lib/python3.12/site-packages/sklearn/svm/_base.py:1242: ConvergenceWarning: Liblinear failed to converge, increase the number of iterations.\n",
      "  warnings.warn(\n",
      "/Users/oluwatomisinjames/Ml-course/sample-project2/env/lib/python3.12/site-packages/sklearn/svm/_base.py:1242: ConvergenceWarning: Liblinear failed to converge, increase the number of iterations.\n",
      "  warnings.warn(\n",
      "/Users/oluwatomisinjames/Ml-course/sample-project2/env/lib/python3.12/site-packages/sklearn/svm/_base.py:1242: ConvergenceWarning: Liblinear failed to converge, increase the number of iterations.\n",
      "  warnings.warn(\n",
      "/Users/oluwatomisinjames/Ml-course/sample-project2/env/lib/python3.12/site-packages/sklearn/svm/_base.py:1242: ConvergenceWarning: Liblinear failed to converge, increase the number of iterations.\n",
      "  warnings.warn(\n",
      "/Users/oluwatomisinjames/Ml-course/sample-project2/env/lib/python3.12/site-packages/sklearn/svm/_base.py:1242: ConvergenceWarning: Liblinear failed to converge, increase the number of iterations.\n",
      "  warnings.warn(\n",
      "/Users/oluwatomisinjames/Ml-course/sample-project2/env/lib/python3.12/site-packages/sklearn/svm/_base.py:1242: ConvergenceWarning: Liblinear failed to converge, increase the number of iterations.\n",
      "  warnings.warn(\n",
      "/Users/oluwatomisinjames/Ml-course/sample-project2/env/lib/python3.12/site-packages/sklearn/svm/_base.py:1242: ConvergenceWarning: Liblinear failed to converge, increase the number of iterations.\n",
      "  warnings.warn(\n",
      "/Users/oluwatomisinjames/Ml-course/sample-project2/env/lib/python3.12/site-packages/sklearn/svm/_base.py:1242: ConvergenceWarning: Liblinear failed to converge, increase the number of iterations.\n",
      "  warnings.warn(\n",
      "/Users/oluwatomisinjames/Ml-course/sample-project2/env/lib/python3.12/site-packages/sklearn/svm/_base.py:1242: ConvergenceWarning: Liblinear failed to converge, increase the number of iterations.\n",
      "  warnings.warn(\n",
      "/Users/oluwatomisinjames/Ml-course/sample-project2/env/lib/python3.12/site-packages/sklearn/svm/_base.py:1242: ConvergenceWarning: Liblinear failed to converge, increase the number of iterations.\n",
      "  warnings.warn(\n",
      "/Users/oluwatomisinjames/Ml-course/sample-project2/env/lib/python3.12/site-packages/sklearn/svm/_base.py:1242: ConvergenceWarning: Liblinear failed to converge, increase the number of iterations.\n",
      "  warnings.warn(\n",
      "/Users/oluwatomisinjames/Ml-course/sample-project2/env/lib/python3.12/site-packages/sklearn/svm/_base.py:1242: ConvergenceWarning: Liblinear failed to converge, increase the number of iterations.\n",
      "  warnings.warn(\n",
      "/Users/oluwatomisinjames/Ml-course/sample-project2/env/lib/python3.12/site-packages/sklearn/svm/_base.py:1242: ConvergenceWarning: Liblinear failed to converge, increase the number of iterations.\n",
      "  warnings.warn(\n",
      "/Users/oluwatomisinjames/Ml-course/sample-project2/env/lib/python3.12/site-packages/sklearn/svm/_base.py:1242: ConvergenceWarning: Liblinear failed to converge, increase the number of iterations.\n",
      "  warnings.warn(\n",
      "/Users/oluwatomisinjames/Ml-course/sample-project2/env/lib/python3.12/site-packages/sklearn/svm/_base.py:1242: ConvergenceWarning: Liblinear failed to converge, increase the number of iterations.\n",
      "  warnings.warn(\n",
      "/Users/oluwatomisinjames/Ml-course/sample-project2/env/lib/python3.12/site-packages/sklearn/svm/_base.py:1242: ConvergenceWarning: Liblinear failed to converge, increase the number of iterations.\n",
      "  warnings.warn(\n",
      "/Users/oluwatomisinjames/Ml-course/sample-project2/env/lib/python3.12/site-packages/sklearn/svm/_base.py:1242: ConvergenceWarning: Liblinear failed to converge, increase the number of iterations.\n",
      "  warnings.warn(\n"
     ]
    },
    {
     "name": "stdout",
     "output_type": "stream",
     "text": [
      " Model accuracy on test set: 98.88%\n",
      "\n",
      "Trying LinearSVC with 30 max_iter\n",
      " Model accuracy on test set: 98.88%\n",
      "\n",
      "Trying LinearSVC with 31 max_iter\n",
      " Model accuracy on test set: 98.88%\n",
      "\n",
      "Trying LinearSVC with 32 max_iter\n",
      " Model accuracy on test set: 98.88%\n",
      "\n",
      "Trying LinearSVC with 33 max_iter\n",
      " Model accuracy on test set: 98.88%\n",
      "\n",
      "Trying LinearSVC with 34 max_iter\n",
      " Model accuracy on test set: 98.88%\n",
      "\n",
      "Trying LinearSVC with 35 max_iter\n",
      " Model accuracy on test set: 98.88%\n",
      "\n",
      "Trying LinearSVC with 36 max_iter\n",
      " Model accuracy on test set: 98.88%\n",
      "\n",
      "Trying LinearSVC with 37 max_iter\n",
      " Model accuracy on test set: 98.88%\n",
      "\n",
      "Trying LinearSVC with 38 max_iter\n",
      " Model accuracy on test set: 98.88%\n",
      "\n",
      "Trying LinearSVC with 39 max_iter\n",
      " Model accuracy on test set: 98.88%\n",
      "\n",
      "Trying LinearSVC with 40 max_iter\n",
      " Model accuracy on test set: 98.88%\n",
      "\n",
      "Trying LinearSVC with 41 max_iter\n",
      " Model accuracy on test set: 98.88%\n",
      "\n",
      "Trying LinearSVC with 42 max_iter\n",
      " Model accuracy on test set: 98.88%\n",
      "\n",
      "Trying LinearSVC with 43 max_iter\n",
      " Model accuracy on test set: 98.88%\n",
      "\n",
      "Trying LinearSVC with 44 max_iter\n"
     ]
    },
    {
     "name": "stderr",
     "output_type": "stream",
     "text": [
      "/Users/oluwatomisinjames/Ml-course/sample-project2/env/lib/python3.12/site-packages/sklearn/svm/_base.py:1242: ConvergenceWarning: Liblinear failed to converge, increase the number of iterations.\n",
      "  warnings.warn(\n",
      "/Users/oluwatomisinjames/Ml-course/sample-project2/env/lib/python3.12/site-packages/sklearn/svm/_base.py:1242: ConvergenceWarning: Liblinear failed to converge, increase the number of iterations.\n",
      "  warnings.warn(\n",
      "/Users/oluwatomisinjames/Ml-course/sample-project2/env/lib/python3.12/site-packages/sklearn/svm/_base.py:1242: ConvergenceWarning: Liblinear failed to converge, increase the number of iterations.\n",
      "  warnings.warn(\n",
      "/Users/oluwatomisinjames/Ml-course/sample-project2/env/lib/python3.12/site-packages/sklearn/svm/_base.py:1242: ConvergenceWarning: Liblinear failed to converge, increase the number of iterations.\n",
      "  warnings.warn(\n",
      "/Users/oluwatomisinjames/Ml-course/sample-project2/env/lib/python3.12/site-packages/sklearn/svm/_base.py:1242: ConvergenceWarning: Liblinear failed to converge, increase the number of iterations.\n",
      "  warnings.warn(\n",
      "/Users/oluwatomisinjames/Ml-course/sample-project2/env/lib/python3.12/site-packages/sklearn/svm/_base.py:1242: ConvergenceWarning: Liblinear failed to converge, increase the number of iterations.\n",
      "  warnings.warn(\n",
      "/Users/oluwatomisinjames/Ml-course/sample-project2/env/lib/python3.12/site-packages/sklearn/svm/_base.py:1242: ConvergenceWarning: Liblinear failed to converge, increase the number of iterations.\n",
      "  warnings.warn(\n",
      "/Users/oluwatomisinjames/Ml-course/sample-project2/env/lib/python3.12/site-packages/sklearn/svm/_base.py:1242: ConvergenceWarning: Liblinear failed to converge, increase the number of iterations.\n",
      "  warnings.warn(\n",
      "/Users/oluwatomisinjames/Ml-course/sample-project2/env/lib/python3.12/site-packages/sklearn/svm/_base.py:1242: ConvergenceWarning: Liblinear failed to converge, increase the number of iterations.\n",
      "  warnings.warn(\n",
      "/Users/oluwatomisinjames/Ml-course/sample-project2/env/lib/python3.12/site-packages/sklearn/svm/_base.py:1242: ConvergenceWarning: Liblinear failed to converge, increase the number of iterations.\n",
      "  warnings.warn(\n",
      "/Users/oluwatomisinjames/Ml-course/sample-project2/env/lib/python3.12/site-packages/sklearn/svm/_base.py:1242: ConvergenceWarning: Liblinear failed to converge, increase the number of iterations.\n",
      "  warnings.warn(\n"
     ]
    },
    {
     "name": "stdout",
     "output_type": "stream",
     "text": [
      " Model accuracy on test set: 98.88%\n",
      "\n",
      "Trying LinearSVC with 45 max_iter\n",
      " Model accuracy on test set: 98.88%\n",
      "\n",
      "Trying LinearSVC with 46 max_iter\n",
      " Model accuracy on test set: 98.88%\n",
      "\n",
      "Trying LinearSVC with 47 max_iter\n",
      " Model accuracy on test set: 98.88%\n",
      "\n",
      "Trying LinearSVC with 48 max_iter\n",
      " Model accuracy on test set: 98.88%\n",
      "\n",
      "Trying LinearSVC with 49 max_iter\n",
      " Model accuracy on test set: 98.88%\n",
      "\n",
      "Trying LinearSVC with 50 max_iter\n",
      " Model accuracy on test set: 98.88%\n",
      "\n",
      "Trying LinearSVC with 51 max_iter\n",
      " Model accuracy on test set: 98.88%\n",
      "\n",
      "Trying LinearSVC with 52 max_iter\n",
      " Model accuracy on test set: 98.88%\n",
      "\n",
      "Trying LinearSVC with 53 max_iter\n",
      " Model accuracy on test set: 98.88%\n",
      "\n",
      "Trying LinearSVC with 54 max_iter\n",
      " Model accuracy on test set: 98.88%\n",
      "\n",
      "Trying LinearSVC with 55 max_iter\n",
      " Model accuracy on test set: 98.88%\n",
      "\n",
      "Trying LinearSVC with 56 max_iter\n",
      " Model accuracy on test set: 98.88%\n",
      "\n",
      "Trying LinearSVC with 57 max_iter\n",
      " Model accuracy on test set: 98.88%\n",
      "\n",
      "Trying LinearSVC with 58 max_iter\n",
      " Model accuracy on test set: 98.88%\n",
      "\n",
      "Trying LinearSVC with 59 max_iter\n"
     ]
    },
    {
     "name": "stderr",
     "output_type": "stream",
     "text": [
      "/Users/oluwatomisinjames/Ml-course/sample-project2/env/lib/python3.12/site-packages/sklearn/svm/_base.py:1242: ConvergenceWarning: Liblinear failed to converge, increase the number of iterations.\n",
      "  warnings.warn(\n",
      "/Users/oluwatomisinjames/Ml-course/sample-project2/env/lib/python3.12/site-packages/sklearn/svm/_base.py:1242: ConvergenceWarning: Liblinear failed to converge, increase the number of iterations.\n",
      "  warnings.warn(\n"
     ]
    },
    {
     "name": "stdout",
     "output_type": "stream",
     "text": [
      " Model accuracy on test set: 98.88%\n",
      "\n",
      "Trying LinearSVC with 60 max_iter\n",
      " Model accuracy on test set: 98.88%\n",
      "\n",
      "Trying LinearSVC with 61 max_iter\n",
      " Model accuracy on test set: 98.88%\n",
      "\n",
      "Trying LinearSVC with 62 max_iter\n",
      " Model accuracy on test set: 98.88%\n",
      "\n",
      "Trying LinearSVC with 63 max_iter\n",
      " Model accuracy on test set: 98.88%\n",
      "\n",
      "Trying LinearSVC with 64 max_iter\n",
      " Model accuracy on test set: 98.88%\n",
      "\n",
      "Trying LinearSVC with 65 max_iter\n",
      " Model accuracy on test set: 98.88%\n",
      "\n",
      "Trying LinearSVC with 66 max_iter\n",
      " Model accuracy on test set: 98.88%\n",
      "\n",
      "Trying LinearSVC with 67 max_iter\n",
      " Model accuracy on test set: 98.88%\n",
      "\n",
      "Trying LinearSVC with 68 max_iter\n",
      " Model accuracy on test set: 98.88%\n",
      "\n",
      "Trying LinearSVC with 69 max_iter\n",
      " Model accuracy on test set: 98.88%\n",
      "\n",
      "Trying LinearSVC with 70 max_iter\n",
      " Model accuracy on test set: 98.88%\n",
      "\n",
      "Trying LinearSVC with 71 max_iter\n",
      " Model accuracy on test set: 98.88%\n",
      "\n",
      "Trying LinearSVC with 72 max_iter\n",
      " Model accuracy on test set: 98.88%\n",
      "\n",
      "Trying LinearSVC with 73 max_iter\n",
      " Model accuracy on test set: 98.88%\n",
      "\n",
      "Trying LinearSVC with 74 max_iter\n",
      " Model accuracy on test set: 98.88%\n",
      "\n",
      "Trying LinearSVC with 75 max_iter\n",
      " Model accuracy on test set: 98.88%\n",
      "\n",
      "Trying LinearSVC with 76 max_iter\n",
      " Model accuracy on test set: 98.88%\n",
      "\n",
      "Trying LinearSVC with 77 max_iter\n",
      " Model accuracy on test set: 98.88%\n",
      "\n",
      "Trying LinearSVC with 78 max_iter\n",
      " Model accuracy on test set: 98.88%\n",
      "\n",
      "Trying LinearSVC with 79 max_iter\n",
      " Model accuracy on test set: 98.88%\n",
      "\n",
      "Trying LinearSVC with 80 max_iter\n",
      " Model accuracy on test set: 98.88%\n",
      "\n",
      "Trying LinearSVC with 81 max_iter\n",
      " Model accuracy on test set: 98.88%\n",
      "\n",
      "Trying LinearSVC with 82 max_iter\n",
      " Model accuracy on test set: 98.88%\n",
      "\n",
      "Trying LinearSVC with 83 max_iter\n",
      " Model accuracy on test set: 98.88%\n",
      "\n",
      "Trying LinearSVC with 84 max_iter\n",
      " Model accuracy on test set: 98.88%\n",
      "\n",
      "Trying LinearSVC with 85 max_iter\n",
      " Model accuracy on test set: 98.88%\n",
      "\n",
      "Trying LinearSVC with 86 max_iter\n",
      " Model accuracy on test set: 98.88%\n",
      "\n",
      "Trying LinearSVC with 87 max_iter\n",
      " Model accuracy on test set: 98.88%\n",
      "\n",
      "Trying LinearSVC with 88 max_iter\n",
      " Model accuracy on test set: 98.88%\n",
      "\n",
      "Trying LinearSVC with 89 max_iter\n",
      " Model accuracy on test set: 98.88%\n",
      "\n",
      "Trying LinearSVC with 90 max_iter\n",
      " Model accuracy on test set: 98.88%\n",
      "\n",
      "Trying LinearSVC with 91 max_iter\n",
      " Model accuracy on test set: 98.88%\n",
      "\n",
      "Trying LinearSVC with 92 max_iter\n",
      " Model accuracy on test set: 98.88%\n",
      "\n",
      "Trying LinearSVC with 93 max_iter\n",
      " Model accuracy on test set: 98.88%\n",
      "\n",
      "Trying LinearSVC with 94 max_iter\n",
      " Model accuracy on test set: 98.88%\n",
      "\n",
      "Trying LinearSVC with 95 max_iter\n",
      " Model accuracy on test set: 98.88%\n",
      "\n",
      "Trying LinearSVC with 96 max_iter\n",
      " Model accuracy on test set: 98.88%\n",
      "\n",
      "Trying LinearSVC with 97 max_iter\n",
      " Model accuracy on test set: 98.88%\n",
      "\n",
      "Trying LinearSVC with 98 max_iter\n",
      " Model accuracy on test set: 98.88%\n",
      "\n",
      "Trying LinearSVC with 99 max_iter\n",
      " Model accuracy on test set: 98.88%\n",
      "\n",
      "highest score is: 0.9887850467289719  at optimal_max_iter: 10\n"
     ]
    }
   ],
   "source": [
    "np.random.seed(42)\n",
    "highest_score = 0\n",
    "optimal_max_iter = 0\n",
    "for i in range(10, 100, 1):\n",
    "    print(f\"Trying LinearSVC with {i} max_iter\")\n",
    "    linear_svc_clf = LinearSVC(max_iter=i, dual='auto')\n",
    "    linear_svc_clf.fit(X_train, y_train)\n",
    "    score = linear_svc_clf.score(X_test, y_test)\n",
    "    print(f\" Model accuracy on test set: {score*100:.2f}%\")\n",
    "    \n",
    "    if score > highest_score:\n",
    "        highest_score = score\n",
    "        optimal_max_iter = i\n",
    "    \n",
    "    print(\"\")\n",
    "    \n",
    "print(\"highest score is:\", highest_score, \" at optimal_max_iter:\", optimal_max_iter)\n",
    "    "
   ]
  },
  {
   "cell_type": "code",
   "execution_count": 64,
   "id": "2d1031ca-899a-4cfa-8846-24c76cf08d4a",
   "metadata": {},
   "outputs": [
    {
     "data": {
      "text/plain": [
       "0.9887850467289719"
      ]
     },
     "execution_count": 64,
     "metadata": {},
     "output_type": "execute_result"
    }
   ],
   "source": [
    "#set up random seed\n",
    "import warnings\n",
    "warnings.filterwarnings('ignore')\n",
    "np.random.seed(42)\n",
    "final_linear_svc_clf = LinearSVC(max_iter=10, dual='auto')\n",
    "final_linear_svc_clf.fit(X_train, y_train)\n",
    "\n",
    "# Evaluate LinearSVC\n",
    "final_linear_svc_clf.score(X_test, y_test)"
   ]
  },
  {
   "attachments": {},
   "cell_type": "markdown",
   "id": "2e6598b7-9974-4089-8edb-f5acb5d31bed",
   "metadata": {},
   "source": [
    "#### 3b. KNeighbors Classifier"
   ]
  },
  {
   "cell_type": "code",
   "execution_count": 34,
   "id": "59559c03-2ac4-4697-9076-1096f2fbabbb",
   "metadata": {},
   "outputs": [
    {
     "data": {
      "text/plain": [
       "0.9532710280373832"
      ]
     },
     "execution_count": 34,
     "metadata": {},
     "output_type": "execute_result"
    }
   ],
   "source": [
    "from sklearn.neighbors import KNeighborsClassifier\n",
    "\n",
    "knn_classifier = KNeighborsClassifier(n_neighbors=5)\n",
    "knn_classifier.fit(X_train, y_train)\n",
    "knn_classifier.score(X_test, y_test)\n"
   ]
  },
  {
   "cell_type": "code",
   "execution_count": 35,
   "id": "3e889759-5d3d-4298-8f8b-d02965e9bd30",
   "metadata": {},
   "outputs": [
    {
     "name": "stdout",
     "output_type": "stream",
     "text": [
      "Trying KNeighborsClassifier with 1 n_neighbors\n",
      " Model accuracy on test set: 86.36%\n",
      "\n",
      "Trying KNeighborsClassifier with 2 n_neighbors\n",
      " Model accuracy on test set: 76.45%\n",
      "\n",
      "Trying KNeighborsClassifier with 3 n_neighbors\n",
      " Model accuracy on test set: 84.86%\n",
      "\n",
      "Trying KNeighborsClassifier with 4 n_neighbors\n",
      " Model accuracy on test set: 91.40%\n",
      "\n",
      "Trying KNeighborsClassifier with 5 n_neighbors\n",
      " Model accuracy on test set: 95.33%\n",
      "\n",
      "Trying KNeighborsClassifier with 6 n_neighbors\n",
      " Model accuracy on test set: 92.52%\n",
      "\n",
      "Trying KNeighborsClassifier with 7 n_neighbors\n",
      " Model accuracy on test set: 93.46%\n",
      "\n",
      "Trying KNeighborsClassifier with 8 n_neighbors\n",
      " Model accuracy on test set: 93.64%\n",
      "\n",
      "Trying KNeighborsClassifier with 9 n_neighbors\n",
      " Model accuracy on test set: 94.39%\n",
      "\n",
      "Trying KNeighborsClassifier with 10 n_neighbors\n",
      " Model accuracy on test set: 92.90%\n",
      "\n",
      "Trying KNeighborsClassifier with 11 n_neighbors\n",
      " Model accuracy on test set: 92.71%\n",
      "\n",
      "Trying KNeighborsClassifier with 12 n_neighbors\n",
      " Model accuracy on test set: 92.34%\n",
      "\n",
      "Trying KNeighborsClassifier with 13 n_neighbors\n",
      " Model accuracy on test set: 92.90%\n",
      "\n",
      "Trying KNeighborsClassifier with 14 n_neighbors\n",
      " Model accuracy on test set: 93.27%\n",
      "\n",
      "Trying KNeighborsClassifier with 15 n_neighbors\n",
      " Model accuracy on test set: 94.02%\n",
      "\n",
      "Trying KNeighborsClassifier with 16 n_neighbors\n",
      " Model accuracy on test set: 94.58%\n",
      "\n",
      "Trying KNeighborsClassifier with 17 n_neighbors\n",
      " Model accuracy on test set: 94.95%\n",
      "\n",
      "Trying KNeighborsClassifier with 18 n_neighbors\n",
      " Model accuracy on test set: 95.14%\n",
      "\n",
      "Trying KNeighborsClassifier with 19 n_neighbors\n",
      " Model accuracy on test set: 95.51%\n",
      "\n",
      "Trying KNeighborsClassifier with 20 n_neighbors\n",
      " Model accuracy on test set: 94.95%\n",
      "\n",
      "Trying KNeighborsClassifier with 21 n_neighbors\n",
      " Model accuracy on test set: 94.39%\n",
      "\n",
      "Trying KNeighborsClassifier with 22 n_neighbors\n",
      " Model accuracy on test set: 94.39%\n",
      "\n",
      "Trying KNeighborsClassifier with 23 n_neighbors\n",
      " Model accuracy on test set: 94.39%\n",
      "\n",
      "Trying KNeighborsClassifier with 24 n_neighbors\n",
      " Model accuracy on test set: 93.46%\n",
      "\n",
      "Trying KNeighborsClassifier with 25 n_neighbors\n",
      " Model accuracy on test set: 94.21%\n",
      "\n",
      "Trying KNeighborsClassifier with 26 n_neighbors\n",
      " Model accuracy on test set: 93.08%\n",
      "\n",
      "Trying KNeighborsClassifier with 27 n_neighbors\n",
      " Model accuracy on test set: 93.08%\n",
      "\n",
      "Trying KNeighborsClassifier with 28 n_neighbors\n",
      " Model accuracy on test set: 93.08%\n",
      "\n",
      "Trying KNeighborsClassifier with 29 n_neighbors\n",
      " Model accuracy on test set: 93.08%\n",
      "\n",
      "Trying KNeighborsClassifier with 30 n_neighbors\n",
      " Model accuracy on test set: 93.08%\n",
      "\n",
      "Trying KNeighborsClassifier with 31 n_neighbors\n",
      " Model accuracy on test set: 93.08%\n",
      "\n",
      "Trying KNeighborsClassifier with 32 n_neighbors\n",
      " Model accuracy on test set: 93.08%\n",
      "\n",
      "Trying KNeighborsClassifier with 33 n_neighbors\n",
      " Model accuracy on test set: 93.08%\n",
      "\n",
      "Trying KNeighborsClassifier with 34 n_neighbors\n",
      " Model accuracy on test set: 93.64%\n",
      "\n",
      "Trying KNeighborsClassifier with 35 n_neighbors\n",
      " Model accuracy on test set: 93.64%\n",
      "\n",
      "Trying KNeighborsClassifier with 36 n_neighbors\n",
      " Model accuracy on test set: 93.64%\n",
      "\n",
      "Trying KNeighborsClassifier with 37 n_neighbors\n",
      " Model accuracy on test set: 93.64%\n",
      "\n",
      "Trying KNeighborsClassifier with 38 n_neighbors\n",
      " Model accuracy on test set: 93.64%\n",
      "\n",
      "Trying KNeighborsClassifier with 39 n_neighbors\n",
      " Model accuracy on test set: 93.64%\n",
      "\n",
      "Trying KNeighborsClassifier with 40 n_neighbors\n",
      " Model accuracy on test set: 93.64%\n",
      "\n",
      "Trying KNeighborsClassifier with 41 n_neighbors\n",
      " Model accuracy on test set: 93.83%\n",
      "\n",
      "Trying KNeighborsClassifier with 42 n_neighbors\n",
      " Model accuracy on test set: 93.83%\n",
      "\n",
      "Trying KNeighborsClassifier with 43 n_neighbors\n",
      " Model accuracy on test set: 93.46%\n",
      "\n",
      "Trying KNeighborsClassifier with 44 n_neighbors\n",
      " Model accuracy on test set: 93.46%\n",
      "\n",
      "Trying KNeighborsClassifier with 45 n_neighbors\n",
      " Model accuracy on test set: 93.46%\n",
      "\n",
      "Trying KNeighborsClassifier with 46 n_neighbors\n",
      " Model accuracy on test set: 93.46%\n",
      "\n",
      "Trying KNeighborsClassifier with 47 n_neighbors\n",
      " Model accuracy on test set: 93.46%\n",
      "\n",
      "Trying KNeighborsClassifier with 48 n_neighbors\n",
      " Model accuracy on test set: 93.46%\n",
      "\n",
      "Trying KNeighborsClassifier with 49 n_neighbors\n",
      " Model accuracy on test set: 93.46%\n",
      "\n",
      "Trying KNeighborsClassifier with 50 n_neighbors\n",
      " Model accuracy on test set: 93.46%\n",
      "\n",
      "Trying KNeighborsClassifier with 51 n_neighbors\n",
      " Model accuracy on test set: 93.46%\n",
      "\n",
      "Trying KNeighborsClassifier with 52 n_neighbors\n",
      " Model accuracy on test set: 93.83%\n",
      "\n",
      "Trying KNeighborsClassifier with 53 n_neighbors\n",
      " Model accuracy on test set: 93.83%\n",
      "\n",
      "Trying KNeighborsClassifier with 54 n_neighbors\n",
      " Model accuracy on test set: 93.64%\n",
      "\n",
      "Trying KNeighborsClassifier with 55 n_neighbors\n",
      " Model accuracy on test set: 93.64%\n",
      "\n",
      "Trying KNeighborsClassifier with 56 n_neighbors\n",
      " Model accuracy on test set: 93.64%\n",
      "\n",
      "Trying KNeighborsClassifier with 57 n_neighbors\n",
      " Model accuracy on test set: 93.64%\n",
      "\n",
      "Trying KNeighborsClassifier with 58 n_neighbors\n",
      " Model accuracy on test set: 93.64%\n",
      "\n",
      "Trying KNeighborsClassifier with 59 n_neighbors\n",
      " Model accuracy on test set: 93.64%\n",
      "\n",
      "Trying KNeighborsClassifier with 60 n_neighbors\n",
      " Model accuracy on test set: 93.64%\n",
      "\n",
      "Trying KNeighborsClassifier with 61 n_neighbors\n",
      " Model accuracy on test set: 93.83%\n",
      "\n",
      "Trying KNeighborsClassifier with 62 n_neighbors\n",
      " Model accuracy on test set: 93.83%\n",
      "\n",
      "Trying KNeighborsClassifier with 63 n_neighbors\n",
      " Model accuracy on test set: 93.83%\n",
      "\n",
      "Trying KNeighborsClassifier with 64 n_neighbors\n",
      " Model accuracy on test set: 93.83%\n",
      "\n",
      "Trying KNeighborsClassifier with 65 n_neighbors\n",
      " Model accuracy on test set: 93.83%\n",
      "\n",
      "Trying KNeighborsClassifier with 66 n_neighbors\n",
      " Model accuracy on test set: 93.83%\n",
      "\n",
      "Trying KNeighborsClassifier with 67 n_neighbors\n",
      " Model accuracy on test set: 93.83%\n",
      "\n",
      "Trying KNeighborsClassifier with 68 n_neighbors\n",
      " Model accuracy on test set: 93.83%\n",
      "\n",
      "Trying KNeighborsClassifier with 69 n_neighbors\n",
      " Model accuracy on test set: 93.83%\n",
      "\n",
      "Trying KNeighborsClassifier with 70 n_neighbors\n",
      " Model accuracy on test set: 93.83%\n",
      "\n",
      "Trying KNeighborsClassifier with 71 n_neighbors\n",
      " Model accuracy on test set: 93.83%\n",
      "\n",
      "Trying KNeighborsClassifier with 72 n_neighbors\n",
      " Model accuracy on test set: 93.83%\n",
      "\n",
      "Trying KNeighborsClassifier with 73 n_neighbors\n",
      " Model accuracy on test set: 93.64%\n",
      "\n",
      "Trying KNeighborsClassifier with 74 n_neighbors\n",
      " Model accuracy on test set: 93.64%\n",
      "\n",
      "Trying KNeighborsClassifier with 75 n_neighbors\n",
      " Model accuracy on test set: 93.64%\n",
      "\n",
      "Trying KNeighborsClassifier with 76 n_neighbors\n",
      " Model accuracy on test set: 93.64%\n",
      "\n",
      "Trying KNeighborsClassifier with 77 n_neighbors\n",
      " Model accuracy on test set: 93.46%\n",
      "\n",
      "Trying KNeighborsClassifier with 78 n_neighbors\n",
      " Model accuracy on test set: 93.46%\n",
      "\n",
      "Trying KNeighborsClassifier with 79 n_neighbors\n",
      " Model accuracy on test set: 93.46%\n",
      "\n",
      "Trying KNeighborsClassifier with 80 n_neighbors\n",
      " Model accuracy on test set: 93.46%\n",
      "\n",
      "Trying KNeighborsClassifier with 81 n_neighbors\n",
      " Model accuracy on test set: 93.46%\n",
      "\n",
      "Trying KNeighborsClassifier with 82 n_neighbors\n",
      " Model accuracy on test set: 93.46%\n",
      "\n",
      "Trying KNeighborsClassifier with 83 n_neighbors\n",
      " Model accuracy on test set: 93.46%\n",
      "\n",
      "Trying KNeighborsClassifier with 84 n_neighbors\n",
      " Model accuracy on test set: 93.46%\n",
      "\n",
      "Trying KNeighborsClassifier with 85 n_neighbors\n",
      " Model accuracy on test set: 93.46%\n",
      "\n",
      "Trying KNeighborsClassifier with 86 n_neighbors\n",
      " Model accuracy on test set: 93.46%\n",
      "\n",
      "Trying KNeighborsClassifier with 87 n_neighbors\n",
      " Model accuracy on test set: 93.46%\n",
      "\n",
      "Trying KNeighborsClassifier with 88 n_neighbors\n",
      " Model accuracy on test set: 93.64%\n",
      "\n",
      "Trying KNeighborsClassifier with 89 n_neighbors\n",
      " Model accuracy on test set: 93.64%\n",
      "\n",
      "Trying KNeighborsClassifier with 90 n_neighbors\n",
      " Model accuracy on test set: 93.64%\n",
      "\n",
      "Trying KNeighborsClassifier with 91 n_neighbors\n",
      " Model accuracy on test set: 93.64%\n",
      "\n",
      "Trying KNeighborsClassifier with 92 n_neighbors\n",
      " Model accuracy on test set: 93.64%\n",
      "\n",
      "Trying KNeighborsClassifier with 93 n_neighbors\n",
      " Model accuracy on test set: 92.90%\n",
      "\n",
      "Trying KNeighborsClassifier with 94 n_neighbors\n",
      " Model accuracy on test set: 91.96%\n",
      "\n",
      "Trying KNeighborsClassifier with 95 n_neighbors\n",
      " Model accuracy on test set: 91.96%\n",
      "\n",
      "Trying KNeighborsClassifier with 96 n_neighbors\n",
      " Model accuracy on test set: 91.96%\n",
      "\n",
      "Trying KNeighborsClassifier with 97 n_neighbors\n",
      " Model accuracy on test set: 91.96%\n",
      "\n",
      "Trying KNeighborsClassifier with 98 n_neighbors\n",
      " Model accuracy on test set: 91.96%\n",
      "\n",
      "Trying KNeighborsClassifier with 99 n_neighbors\n",
      " Model accuracy on test set: 91.78%\n",
      "\n",
      "highest score is: 0.9551401869158879  at n_neighbors: 19\n"
     ]
    }
   ],
   "source": [
    "np.random.seed(42)\n",
    "highest_score = 0\n",
    "most_optimal_n_neighbors = 0\n",
    "for i in range(1, 100, 1):\n",
    "    print(f\"Trying KNeighborsClassifier with {i} n_neighbors\")\n",
    "    knn_classifier = KNeighborsClassifier(n_neighbors=i)\n",
    "    knn_classifier.fit(X_train, y_train)\n",
    "    score = knn_classifier.score(X_test, y_test)\n",
    "    print(f\" Model accuracy on test set: {score*100:.2f}%\")\n",
    "    if score > highest_score:\n",
    "        highest_score = score\n",
    "        most_optimal_n_neighbors = i\n",
    "\n",
    "    \n",
    "    print(\"\")\n",
    "print(\"highest score is:\", highest_score, \" at n_neighbors:\", most_optimal_n_neighbors)\n",
    "    \n"
   ]
  },
  {
   "cell_type": "code",
   "execution_count": 36,
   "id": "349a3e22-b105-47f5-8f0a-fab3d31b8114",
   "metadata": {},
   "outputs": [
    {
     "data": {
      "text/plain": [
       "0.9514018691588785"
      ]
     },
     "execution_count": 36,
     "metadata": {},
     "output_type": "execute_result"
    }
   ],
   "source": [
    "np.random.seed(42)\n",
    "final_knn_classifier = KNeighborsClassifier(n_neighbors=18)\n",
    "final_knn_classifier.fit(X_train, y_train)\n",
    "final_knn_classifier.score(X_test, y_test)"
   ]
  },
  {
   "attachments": {},
   "cell_type": "markdown",
   "id": "d8c8a154-2dce-46c0-b66d-ddf8f732a56e",
   "metadata": {},
   "source": [
    "#### 3c. Ensemble Classifier"
   ]
  },
  {
   "cell_type": "code",
   "execution_count": 37,
   "id": "7cf420d7-5a1d-4fd2-bd20-b0a7264b767f",
   "metadata": {},
   "outputs": [
    {
     "data": {
      "text/plain": [
       "0.9887850467289719"
      ]
     },
     "execution_count": 37,
     "metadata": {},
     "output_type": "execute_result"
    }
   ],
   "source": [
    "from sklearn.ensemble import RandomForestClassifier\n",
    "\n",
    "np.random.seed(42)\n",
    "\n",
    "random_forest_classifier_model =  RandomForestClassifier(n_estimators=100)\n",
    "random_forest_classifier_model.fit(X_train, y_train)\n",
    "\n",
    "# Check score of model\n",
    "random_forest_classifier_model.score(X_test, y_test)"
   ]
  },
  {
   "cell_type": "code",
   "execution_count": 38,
   "id": "d56d9fb3-0efb-450d-9d10-bda6c1ad59c5",
   "metadata": {},
   "outputs": [
    {
     "name": "stdout",
     "output_type": "stream",
     "text": [
      "Trying RandomForestClassifier with 1 n_estimators\n",
      " Model accuracy on test set: 96.07%\n",
      "\n",
      "Trying RandomForestClassifier with 2 n_estimators\n",
      " Model accuracy on test set: 98.13%\n",
      "\n",
      "Trying RandomForestClassifier with 3 n_estimators\n",
      " Model accuracy on test set: 98.50%\n",
      "\n",
      "Trying RandomForestClassifier with 4 n_estimators\n",
      " Model accuracy on test set: 97.76%\n",
      "\n",
      "Trying RandomForestClassifier with 5 n_estimators\n",
      " Model accuracy on test set: 98.50%\n",
      "\n",
      "Trying RandomForestClassifier with 6 n_estimators\n",
      " Model accuracy on test set: 98.50%\n",
      "\n",
      "Trying RandomForestClassifier with 7 n_estimators\n",
      " Model accuracy on test set: 98.32%\n",
      "\n",
      "Trying RandomForestClassifier with 8 n_estimators\n",
      " Model accuracy on test set: 98.69%\n",
      "\n",
      "Trying RandomForestClassifier with 9 n_estimators\n",
      " Model accuracy on test set: 98.32%\n",
      "\n",
      "Trying RandomForestClassifier with 10 n_estimators\n",
      " Model accuracy on test set: 98.32%\n",
      "\n",
      "Trying RandomForestClassifier with 11 n_estimators\n",
      " Model accuracy on test set: 98.69%\n",
      "\n",
      "Trying RandomForestClassifier with 12 n_estimators\n",
      " Model accuracy on test set: 98.88%\n",
      "\n",
      "Trying RandomForestClassifier with 13 n_estimators\n",
      " Model accuracy on test set: 98.88%\n",
      "\n",
      "Trying RandomForestClassifier with 14 n_estimators\n",
      " Model accuracy on test set: 98.32%\n",
      "\n",
      "Trying RandomForestClassifier with 15 n_estimators\n",
      " Model accuracy on test set: 98.69%\n",
      "\n",
      "Trying RandomForestClassifier with 16 n_estimators\n",
      " Model accuracy on test set: 98.69%\n",
      "\n",
      "Trying RandomForestClassifier with 17 n_estimators\n",
      " Model accuracy on test set: 98.88%\n",
      "\n",
      "Trying RandomForestClassifier with 18 n_estimators\n",
      " Model accuracy on test set: 98.69%\n",
      "\n",
      "Trying RandomForestClassifier with 19 n_estimators\n",
      " Model accuracy on test set: 98.69%\n",
      "\n",
      "Trying RandomForestClassifier with 20 n_estimators\n",
      " Model accuracy on test set: 98.50%\n",
      "\n",
      "Trying RandomForestClassifier with 21 n_estimators\n",
      " Model accuracy on test set: 98.88%\n",
      "\n",
      "Trying RandomForestClassifier with 22 n_estimators\n",
      " Model accuracy on test set: 98.88%\n",
      "\n",
      "Trying RandomForestClassifier with 23 n_estimators\n",
      " Model accuracy on test set: 98.69%\n",
      "\n",
      "Trying RandomForestClassifier with 24 n_estimators\n",
      " Model accuracy on test set: 98.88%\n",
      "\n",
      "Trying RandomForestClassifier with 25 n_estimators\n",
      " Model accuracy on test set: 98.88%\n",
      "\n",
      "Trying RandomForestClassifier with 26 n_estimators\n",
      " Model accuracy on test set: 98.88%\n",
      "\n",
      "Trying RandomForestClassifier with 27 n_estimators\n",
      " Model accuracy on test set: 98.32%\n",
      "\n",
      "Trying RandomForestClassifier with 28 n_estimators\n",
      " Model accuracy on test set: 98.69%\n",
      "\n",
      "Trying RandomForestClassifier with 29 n_estimators\n",
      " Model accuracy on test set: 98.88%\n",
      "\n",
      "Trying RandomForestClassifier with 30 n_estimators\n",
      " Model accuracy on test set: 98.88%\n",
      "\n",
      "Trying RandomForestClassifier with 31 n_estimators\n",
      " Model accuracy on test set: 98.88%\n",
      "\n",
      "Trying RandomForestClassifier with 32 n_estimators\n",
      " Model accuracy on test set: 98.88%\n",
      "\n",
      "Trying RandomForestClassifier with 33 n_estimators\n",
      " Model accuracy on test set: 98.88%\n",
      "\n",
      "Trying RandomForestClassifier with 34 n_estimators\n",
      " Model accuracy on test set: 98.69%\n",
      "\n",
      "Trying RandomForestClassifier with 35 n_estimators\n",
      " Model accuracy on test set: 98.88%\n",
      "\n",
      "Trying RandomForestClassifier with 36 n_estimators\n",
      " Model accuracy on test set: 98.88%\n",
      "\n",
      "Trying RandomForestClassifier with 37 n_estimators\n",
      " Model accuracy on test set: 99.07%\n",
      "\n",
      "Trying RandomForestClassifier with 38 n_estimators\n",
      " Model accuracy on test set: 98.69%\n",
      "\n",
      "Trying RandomForestClassifier with 39 n_estimators\n",
      " Model accuracy on test set: 98.88%\n",
      "\n",
      "Trying RandomForestClassifier with 40 n_estimators\n",
      " Model accuracy on test set: 98.88%\n",
      "\n",
      "Trying RandomForestClassifier with 41 n_estimators\n",
      " Model accuracy on test set: 98.88%\n",
      "\n",
      "Trying RandomForestClassifier with 42 n_estimators\n",
      " Model accuracy on test set: 98.69%\n",
      "\n",
      "Trying RandomForestClassifier with 43 n_estimators\n",
      " Model accuracy on test set: 98.88%\n",
      "\n",
      "Trying RandomForestClassifier with 44 n_estimators\n",
      " Model accuracy on test set: 98.88%\n",
      "\n",
      "Trying RandomForestClassifier with 45 n_estimators\n",
      " Model accuracy on test set: 98.69%\n",
      "\n",
      "Trying RandomForestClassifier with 46 n_estimators\n",
      " Model accuracy on test set: 99.07%\n",
      "\n",
      "Trying RandomForestClassifier with 47 n_estimators\n",
      " Model accuracy on test set: 98.88%\n",
      "\n",
      "Trying RandomForestClassifier with 48 n_estimators\n",
      " Model accuracy on test set: 98.88%\n",
      "\n",
      "Trying RandomForestClassifier with 49 n_estimators\n",
      " Model accuracy on test set: 98.69%\n",
      "\n",
      "Trying RandomForestClassifier with 50 n_estimators\n",
      " Model accuracy on test set: 98.88%\n",
      "\n",
      "Trying RandomForestClassifier with 51 n_estimators\n",
      " Model accuracy on test set: 99.07%\n",
      "\n",
      "Trying RandomForestClassifier with 52 n_estimators\n",
      " Model accuracy on test set: 98.88%\n",
      "\n",
      "Trying RandomForestClassifier with 53 n_estimators\n",
      " Model accuracy on test set: 98.88%\n",
      "\n",
      "Trying RandomForestClassifier with 54 n_estimators\n",
      " Model accuracy on test set: 98.88%\n",
      "\n",
      "Trying RandomForestClassifier with 55 n_estimators\n",
      " Model accuracy on test set: 98.88%\n",
      "\n",
      "Trying RandomForestClassifier with 56 n_estimators\n",
      " Model accuracy on test set: 98.88%\n",
      "\n",
      "Trying RandomForestClassifier with 57 n_estimators\n",
      " Model accuracy on test set: 98.88%\n",
      "\n",
      "Trying RandomForestClassifier with 58 n_estimators\n",
      " Model accuracy on test set: 98.88%\n",
      "\n",
      "Trying RandomForestClassifier with 59 n_estimators\n",
      " Model accuracy on test set: 98.88%\n",
      "\n",
      "Trying RandomForestClassifier with 60 n_estimators\n",
      " Model accuracy on test set: 98.88%\n",
      "\n",
      "Trying RandomForestClassifier with 61 n_estimators\n",
      " Model accuracy on test set: 98.88%\n",
      "\n",
      "Trying RandomForestClassifier with 62 n_estimators\n",
      " Model accuracy on test set: 98.88%\n",
      "\n",
      "Trying RandomForestClassifier with 63 n_estimators\n",
      " Model accuracy on test set: 98.88%\n",
      "\n",
      "Trying RandomForestClassifier with 64 n_estimators\n",
      " Model accuracy on test set: 98.88%\n",
      "\n",
      "Trying RandomForestClassifier with 65 n_estimators\n",
      " Model accuracy on test set: 98.88%\n",
      "\n",
      "Trying RandomForestClassifier with 66 n_estimators\n",
      " Model accuracy on test set: 98.88%\n",
      "\n",
      "Trying RandomForestClassifier with 67 n_estimators\n",
      " Model accuracy on test set: 98.88%\n",
      "\n",
      "Trying RandomForestClassifier with 68 n_estimators\n",
      " Model accuracy on test set: 98.88%\n",
      "\n",
      "Trying RandomForestClassifier with 69 n_estimators\n",
      " Model accuracy on test set: 98.88%\n",
      "\n",
      "Trying RandomForestClassifier with 70 n_estimators\n",
      " Model accuracy on test set: 98.88%\n",
      "\n",
      "Trying RandomForestClassifier with 71 n_estimators\n",
      " Model accuracy on test set: 98.88%\n",
      "\n",
      "Trying RandomForestClassifier with 72 n_estimators\n",
      " Model accuracy on test set: 98.88%\n",
      "\n",
      "Trying RandomForestClassifier with 73 n_estimators\n",
      " Model accuracy on test set: 98.88%\n",
      "\n",
      "Trying RandomForestClassifier with 74 n_estimators\n",
      " Model accuracy on test set: 98.88%\n",
      "\n",
      "Trying RandomForestClassifier with 75 n_estimators\n",
      " Model accuracy on test set: 98.88%\n",
      "\n",
      "Trying RandomForestClassifier with 76 n_estimators\n",
      " Model accuracy on test set: 98.88%\n",
      "\n",
      "Trying RandomForestClassifier with 77 n_estimators\n",
      " Model accuracy on test set: 98.88%\n",
      "\n",
      "Trying RandomForestClassifier with 78 n_estimators\n",
      " Model accuracy on test set: 98.88%\n",
      "\n",
      "Trying RandomForestClassifier with 79 n_estimators\n",
      " Model accuracy on test set: 98.88%\n",
      "\n",
      "Trying RandomForestClassifier with 80 n_estimators\n",
      " Model accuracy on test set: 98.88%\n",
      "\n",
      "Trying RandomForestClassifier with 81 n_estimators\n",
      " Model accuracy on test set: 98.88%\n",
      "\n",
      "Trying RandomForestClassifier with 82 n_estimators\n",
      " Model accuracy on test set: 98.88%\n",
      "\n",
      "Trying RandomForestClassifier with 83 n_estimators\n",
      " Model accuracy on test set: 98.88%\n",
      "\n",
      "Trying RandomForestClassifier with 84 n_estimators\n",
      " Model accuracy on test set: 99.07%\n",
      "\n",
      "Trying RandomForestClassifier with 85 n_estimators\n",
      " Model accuracy on test set: 98.88%\n",
      "\n",
      "Trying RandomForestClassifier with 86 n_estimators\n",
      " Model accuracy on test set: 98.88%\n",
      "\n",
      "Trying RandomForestClassifier with 87 n_estimators\n",
      " Model accuracy on test set: 98.88%\n",
      "\n",
      "Trying RandomForestClassifier with 88 n_estimators\n",
      " Model accuracy on test set: 98.88%\n",
      "\n",
      "Trying RandomForestClassifier with 89 n_estimators\n",
      " Model accuracy on test set: 98.88%\n",
      "\n",
      "Trying RandomForestClassifier with 90 n_estimators\n",
      " Model accuracy on test set: 98.88%\n",
      "\n",
      "Trying RandomForestClassifier with 91 n_estimators\n",
      " Model accuracy on test set: 98.88%\n",
      "\n",
      "Trying RandomForestClassifier with 92 n_estimators\n",
      " Model accuracy on test set: 98.88%\n",
      "\n",
      "Trying RandomForestClassifier with 93 n_estimators\n",
      " Model accuracy on test set: 98.88%\n",
      "\n",
      "Trying RandomForestClassifier with 94 n_estimators\n",
      " Model accuracy on test set: 98.88%\n",
      "\n",
      "Trying RandomForestClassifier with 95 n_estimators\n",
      " Model accuracy on test set: 98.88%\n",
      "\n",
      "Trying RandomForestClassifier with 96 n_estimators\n",
      " Model accuracy on test set: 98.88%\n",
      "\n",
      "Trying RandomForestClassifier with 97 n_estimators\n",
      " Model accuracy on test set: 98.88%\n",
      "\n",
      "Trying RandomForestClassifier with 98 n_estimators\n",
      " Model accuracy on test set: 98.88%\n",
      "\n",
      "Trying RandomForestClassifier with 99 n_estimators\n",
      " Model accuracy on test set: 98.88%\n",
      "\n",
      "highest score is: 0.9906542056074766 at n_estimators: 37\n"
     ]
    }
   ],
   "source": [
    "np.random.seed(42)\n",
    "highest_score = 0\n",
    "optimal_n_estimators = 0\n",
    "for i in range(1, 100, 1):\n",
    "    print(f\"Trying RandomForestClassifier with {i} n_estimators\")\n",
    "    random_forest_classifier_model = RandomForestClassifier(n_estimators=i)\n",
    "    random_forest_classifier_model.fit(X_train, y_train)\n",
    "    score = random_forest_classifier_model.score(X_test, y_test)\n",
    "    print(f\" Model accuracy on test set: {score*100:.2f}%\")\n",
    "    if score > highest_score:\n",
    "        highest_score = score\n",
    "        optimal_n_estimators=i\n",
    "    \n",
    "    print(\"\")\n",
    "print(\"highest score is:\", highest_score, \"at n_estimators:\", optimal_n_estimators)"
   ]
  },
  {
   "cell_type": "code",
   "execution_count": 39,
   "id": "03705d26-c519-4621-ae12-0d534723bb7b",
   "metadata": {},
   "outputs": [
    {
     "data": {
      "text/plain": [
       "0.9887850467289719"
      ]
     },
     "execution_count": 39,
     "metadata": {},
     "output_type": "execute_result"
    }
   ],
   "source": [
    "np.random.seed(42)\n",
    "\n",
    "final_random_forest_classifier_model =  RandomForestClassifier(n_estimators=47)\n",
    "final_random_forest_classifier_model.fit(X_train, y_train)\n",
    "final_random_forest_classifier_model.score(X_test, y_test)"
   ]
  },
  {
   "attachments": {},
   "cell_type": "markdown",
   "id": "cc26b57f-cf68-431d-9e8e-ee7ad0472c7a",
   "metadata": {},
   "source": [
    "#### Model Ranking Based on Score\n",
    "\n",
    "\n",
    "1. `final_random_forest_classifier_model`: 0.9887850467289719\n",
    "2. `final_linear_svc_clf`: 0.983177570093458\n",
    "3. `final_knn_classifier`: 0.9607476635514018\n"
   ]
  },
  {
   "attachments": {},
   "cell_type": "markdown",
   "id": "9f902e26-daa9-4f70-8025-4b142d61b537",
   "metadata": {},
   "source": [
    "## 4. Evaluating a model\n"
   ]
  },
  {
   "attachments": {},
   "cell_type": "markdown",
   "id": "9f3e5a33-4a8a-42cb-8d07-0cb9503246ea",
   "metadata": {},
   "source": [
    "#### 4.1 Make predictions"
   ]
  },
  {
   "cell_type": "code",
   "execution_count": 44,
   "id": "8c370078-af8d-45df-84cd-fb5f5d7b35ff",
   "metadata": {},
   "outputs": [
    {
     "data": {
      "text/plain": [
       "0.9887850467289719"
      ]
     },
     "execution_count": 44,
     "metadata": {},
     "output_type": "execute_result"
    }
   ],
   "source": [
    "y_preds_final_random_forest_classifier_model =final_random_forest_classifier_model.predict(X_test)\n",
    "np.mean(y_preds_final_random_forest_classifier_model == y_test)"
   ]
  },
  {
   "cell_type": "code",
   "execution_count": 45,
   "id": "6fe16eb9-0791-41fb-ae34-c85875fc00a4",
   "metadata": {},
   "outputs": [
    {
     "data": {
      "text/plain": [
       "0.9887850467289719"
      ]
     },
     "execution_count": 45,
     "metadata": {},
     "output_type": "execute_result"
    }
   ],
   "source": [
    "y_preds_final_linear_svc_clf = final_linear_svc_clf.predict(X_test)\n",
    "np.mean(y_preds_final_linear_svc_clf == y_test)"
   ]
  },
  {
   "cell_type": "code",
   "execution_count": 46,
   "id": "ecd4de06-fc1b-4089-9d53-8a6dce77f7ae",
   "metadata": {},
   "outputs": [
    {
     "data": {
      "text/plain": [
       "0.9514018691588785"
      ]
     },
     "execution_count": 46,
     "metadata": {},
     "output_type": "execute_result"
    }
   ],
   "source": [
    "y_preds_final_knn_classifier = final_knn_classifier.predict(X_test)\n",
    "np.mean(y_preds_final_knn_classifier == y_test)"
   ]
  },
  {
   "attachments": {},
   "cell_type": "markdown",
   "id": "e3a0b268-668a-4758-b051-aa1b79649138",
   "metadata": {},
   "source": [
    "#### Model Ranking Based on Prediction\n",
    "\n",
    "\n",
    "1. `final_random_forest_classifier_model`: 0.9887850467289719\n",
    "2. `final_linear_svc_clf`: 0.9887850467289719\n",
    "3. `final_knn_classifier`: 0.9514018691588785"
   ]
  },
  {
   "attachments": {},
   "cell_type": "markdown",
   "id": "c9f6ebe8-a0ca-4c2b-a967-b63375c65663",
   "metadata": {},
   "source": [
    "#### 4.2 Make cross evaluation"
   ]
  },
  {
   "cell_type": "code",
   "execution_count": 71,
   "id": "a2b9281d-f696-40cb-86be-a01b68c73ef6",
   "metadata": {},
   "outputs": [
    {
     "data": {
      "text/plain": [
       "0.988035282999055"
      ]
     },
     "execution_count": 71,
     "metadata": {},
     "output_type": "execute_result"
    }
   ],
   "source": [
    "from sklearn.model_selection import cross_val_score\n",
    "warnings.filterwarnings('ignore')\n",
    "np.random.seed(42)\n",
    "cross_value_score_for_final_random_forest_classifier_model = cross_val_score(final_random_forest_classifier_model, transformed_X, y, scoring='accuracy')\n",
    "np.mean(cross_value_score_for_final_random_forest_classifier_model)"
   ]
  },
  {
   "cell_type": "code",
   "execution_count": 72,
   "id": "26139283-51a9-42ac-980e-5f99f73baa77",
   "metadata": {},
   "outputs": [
    {
     "data": {
      "text/plain": [
       "0.9872876194476532"
      ]
     },
     "execution_count": 72,
     "metadata": {},
     "output_type": "execute_result"
    }
   ],
   "source": [
    "warnings.filterwarnings('ignore')\n",
    "np.random.seed(42)\n",
    "\n",
    "cross_value_score_for_final_linear_svc_clf = cross_val_score(final_linear_svc_clf, transformed_X, y, scoring='accuracy')\n",
    "np.mean(cross_value_score_for_final_linear_svc_clf)"
   ]
  },
  {
   "cell_type": "code",
   "execution_count": 73,
   "id": "04f7a0b1-a20a-4301-af72-468e58ef12d3",
   "metadata": {},
   "outputs": [
    {
     "data": {
      "text/plain": [
       "0.9446511953516048"
      ]
     },
     "execution_count": 73,
     "metadata": {},
     "output_type": "execute_result"
    }
   ],
   "source": [
    "warnings.filterwarnings('ignore')\n",
    "np.random.seed(42)\n",
    "\n",
    "cross_value_score_for_final_knn_classifier = cross_val_score(final_knn_classifier, transformed_X, y, scoring='accuracy')\n",
    "np.mean(cross_value_score_for_final_knn_classifier)"
   ]
  },
  {
   "attachments": {},
   "cell_type": "markdown",
   "id": "22892e8d-fd90-4af7-a098-c662ebee3ddc",
   "metadata": {},
   "source": [
    "#### Model Ranking Based on Cross Evaluation (Accuracy)\n",
    "\n",
    "\n",
    "1. `final_random_forest_classifier_model`: 0.988035282999055\n",
    "2. `final_linear_svc_clf`: 0.9872876194476532\n",
    "3. `final_knn_classifier`: 0.9446511953516048"
   ]
  },
  {
   "attachments": {},
   "cell_type": "markdown",
   "id": "3425f03b-4b93-4d66-8020-79f4b5ed9c2c",
   "metadata": {},
   "source": [
    "#### 4.3 Confusion Matrix\n"
   ]
  },
  {
   "attachments": {},
   "cell_type": "markdown",
   "id": "fe1e78dd-71f5-4ef9-bfb4-f925d8b790b8",
   "metadata": {},
   "source": [
    "**random_forest_classifier_model**"
   ]
  },
  {
   "cell_type": "code",
   "execution_count": 82,
   "id": "ac8b3784-13dc-4fa6-8470-ca40d6c64015",
   "metadata": {},
   "outputs": [
    {
     "data": {
      "text/html": [
       "<div>\n",
       "<style scoped>\n",
       "    .dataframe tbody tr th:only-of-type {\n",
       "        vertical-align: middle;\n",
       "    }\n",
       "\n",
       "    .dataframe tbody tr th {\n",
       "        vertical-align: top;\n",
       "    }\n",
       "\n",
       "    .dataframe thead th {\n",
       "        text-align: right;\n",
       "    }\n",
       "</style>\n",
       "<table border=\"1\" class=\"dataframe\">\n",
       "  <thead>\n",
       "    <tr style=\"text-align: right;\">\n",
       "      <th>predicted Labels</th>\n",
       "      <th>1.0</th>\n",
       "      <th>2.0</th>\n",
       "      <th>4.0</th>\n",
       "      <th>10.0</th>\n",
       "      <th>11.0</th>\n",
       "      <th>12.0</th>\n",
       "      <th>16.0</th>\n",
       "    </tr>\n",
       "    <tr>\n",
       "      <th>Actual Label</th>\n",
       "      <th></th>\n",
       "      <th></th>\n",
       "      <th></th>\n",
       "      <th></th>\n",
       "      <th></th>\n",
       "      <th></th>\n",
       "      <th></th>\n",
       "    </tr>\n",
       "  </thead>\n",
       "  <tbody>\n",
       "    <tr>\n",
       "      <th>1.0</th>\n",
       "      <td>114</td>\n",
       "      <td>0</td>\n",
       "      <td>1</td>\n",
       "      <td>0</td>\n",
       "      <td>0</td>\n",
       "      <td>0</td>\n",
       "      <td>1</td>\n",
       "    </tr>\n",
       "    <tr>\n",
       "      <th>2.0</th>\n",
       "      <td>0</td>\n",
       "      <td>10</td>\n",
       "      <td>0</td>\n",
       "      <td>0</td>\n",
       "      <td>0</td>\n",
       "      <td>0</td>\n",
       "      <td>0</td>\n",
       "    </tr>\n",
       "    <tr>\n",
       "      <th>4.0</th>\n",
       "      <td>1</td>\n",
       "      <td>0</td>\n",
       "      <td>313</td>\n",
       "      <td>0</td>\n",
       "      <td>0</td>\n",
       "      <td>2</td>\n",
       "      <td>0</td>\n",
       "    </tr>\n",
       "    <tr>\n",
       "      <th>10.0</th>\n",
       "      <td>0</td>\n",
       "      <td>0</td>\n",
       "      <td>0</td>\n",
       "      <td>2</td>\n",
       "      <td>0</td>\n",
       "      <td>0</td>\n",
       "      <td>0</td>\n",
       "    </tr>\n",
       "    <tr>\n",
       "      <th>11.0</th>\n",
       "      <td>0</td>\n",
       "      <td>1</td>\n",
       "      <td>0</td>\n",
       "      <td>0</td>\n",
       "      <td>32</td>\n",
       "      <td>0</td>\n",
       "      <td>0</td>\n",
       "    </tr>\n",
       "    <tr>\n",
       "      <th>12.0</th>\n",
       "      <td>0</td>\n",
       "      <td>0</td>\n",
       "      <td>0</td>\n",
       "      <td>0</td>\n",
       "      <td>0</td>\n",
       "      <td>1</td>\n",
       "      <td>0</td>\n",
       "    </tr>\n",
       "    <tr>\n",
       "      <th>16.0</th>\n",
       "      <td>0</td>\n",
       "      <td>0</td>\n",
       "      <td>0</td>\n",
       "      <td>0</td>\n",
       "      <td>0</td>\n",
       "      <td>0</td>\n",
       "      <td>57</td>\n",
       "    </tr>\n",
       "  </tbody>\n",
       "</table>\n",
       "</div>"
      ],
      "text/plain": [
       "predicted Labels  1.0   2.0   4.0   10.0  11.0  12.0  16.0\n",
       "Actual Label                                              \n",
       "1.0                114     0     1     0     0     0     1\n",
       "2.0                  0    10     0     0     0     0     0\n",
       "4.0                  1     0   313     0     0     2     0\n",
       "10.0                 0     0     0     2     0     0     0\n",
       "11.0                 0     1     0     0    32     0     0\n",
       "12.0                 0     0     0     0     0     1     0\n",
       "16.0                 0     0     0     0     0     0    57"
      ]
     },
     "execution_count": 82,
     "metadata": {},
     "output_type": "execute_result"
    }
   ],
   "source": [
    "from sklearn.metrics import confusion_matrix\n",
    "confusion_matrix(y_test, y_preds_final_random_forest_classifier_model)\n",
    "pd.crosstab(y_test, y_preds_final_random_forest_classifier_model, rownames=[\"Actual Label\"],\n",
    "            colnames=[\"predicted Labels\"]\n",
    "           )"
   ]
  },
  {
   "attachments": {},
   "cell_type": "markdown",
   "id": "38aa8033-367a-41d9-9e0f-ad387a28b443",
   "metadata": {},
   "source": [
    "- Class 1.0 has 114 correct predictions.\n",
    "- Class 2.0 has 10 correct predictions.\n",
    "- Class 4.0 has 313 correct predictions.\n",
    "- Class 10.0 has 2 correct predictions.\n",
    "- Class 11.0 has 32 correct predictions.\n",
    "- Class 12.0 has 1 correct prediction.\n",
    "- Class 16.0 has 57 correct predictions."
   ]
  },
  {
   "cell_type": "code",
   "execution_count": 81,
   "id": "a0973b4b-a4f3-4c17-885b-2d925b012b66",
   "metadata": {},
   "outputs": [
    {
     "data": {
      "text/plain": [
       "<sklearn.metrics._plot.confusion_matrix.ConfusionMatrixDisplay at 0x1466eed20>"
      ]
     },
     "execution_count": 81,
     "metadata": {},
     "output_type": "execute_result"
    },
    {
     "data": {
      "image/png": "[encoded data removed]",
      "text/plain": [
       "<Figure size 640x480 with 2 Axes>"
      ]
     },
     "metadata": {},
     "output_type": "display_data"
    }
   ],
   "source": [
    "from sklearn.metrics import ConfusionMatrixDisplay\n",
    "ConfusionMatrixDisplay.from_estimator(estimator=final_random_forest_classifier_model, X=transformed_X, y=y)"
   ]
  },
  {
   "attachments": {},
   "cell_type": "markdown",
   "id": "9d90a69c-7576-45d6-9dba-fd7153ac2827",
   "metadata": {},
   "source": [
    "**linear_svc_clf**"
   ]
  },
  {
   "cell_type": "code",
   "execution_count": 83,
   "id": "fd396b20-d6c9-496b-bb2c-fb7e5e1ad7c3",
   "metadata": {},
   "outputs": [
    {
     "data": {
      "text/html": [
       "<div>\n",
       "<style scoped>\n",
       "    .dataframe tbody tr th:only-of-type {\n",
       "        vertical-align: middle;\n",
       "    }\n",
       "\n",
       "    .dataframe tbody tr th {\n",
       "        vertical-align: top;\n",
       "    }\n",
       "\n",
       "    .dataframe thead th {\n",
       "        text-align: right;\n",
       "    }\n",
       "</style>\n",
       "<table border=\"1\" class=\"dataframe\">\n",
       "  <thead>\n",
       "    <tr style=\"text-align: right;\">\n",
       "      <th>predicted Labels</th>\n",
       "      <th>1.0</th>\n",
       "      <th>2.0</th>\n",
       "      <th>4.0</th>\n",
       "      <th>10.0</th>\n",
       "      <th>11.0</th>\n",
       "      <th>12.0</th>\n",
       "      <th>16.0</th>\n",
       "    </tr>\n",
       "    <tr>\n",
       "      <th>Actual Label</th>\n",
       "      <th></th>\n",
       "      <th></th>\n",
       "      <th></th>\n",
       "      <th></th>\n",
       "      <th></th>\n",
       "      <th></th>\n",
       "      <th></th>\n",
       "    </tr>\n",
       "  </thead>\n",
       "  <tbody>\n",
       "    <tr>\n",
       "      <th>1.0</th>\n",
       "      <td>114</td>\n",
       "      <td>0</td>\n",
       "      <td>1</td>\n",
       "      <td>0</td>\n",
       "      <td>0</td>\n",
       "      <td>0</td>\n",
       "      <td>1</td>\n",
       "    </tr>\n",
       "    <tr>\n",
       "      <th>2.0</th>\n",
       "      <td>0</td>\n",
       "      <td>10</td>\n",
       "      <td>0</td>\n",
       "      <td>0</td>\n",
       "      <td>0</td>\n",
       "      <td>0</td>\n",
       "      <td>0</td>\n",
       "    </tr>\n",
       "    <tr>\n",
       "      <th>4.0</th>\n",
       "      <td>1</td>\n",
       "      <td>0</td>\n",
       "      <td>313</td>\n",
       "      <td>0</td>\n",
       "      <td>0</td>\n",
       "      <td>2</td>\n",
       "      <td>0</td>\n",
       "    </tr>\n",
       "    <tr>\n",
       "      <th>10.0</th>\n",
       "      <td>0</td>\n",
       "      <td>0</td>\n",
       "      <td>0</td>\n",
       "      <td>2</td>\n",
       "      <td>0</td>\n",
       "      <td>0</td>\n",
       "      <td>0</td>\n",
       "    </tr>\n",
       "    <tr>\n",
       "      <th>11.0</th>\n",
       "      <td>0</td>\n",
       "      <td>1</td>\n",
       "      <td>0</td>\n",
       "      <td>0</td>\n",
       "      <td>32</td>\n",
       "      <td>0</td>\n",
       "      <td>0</td>\n",
       "    </tr>\n",
       "    <tr>\n",
       "      <th>12.0</th>\n",
       "      <td>0</td>\n",
       "      <td>0</td>\n",
       "      <td>0</td>\n",
       "      <td>0</td>\n",
       "      <td>0</td>\n",
       "      <td>1</td>\n",
       "      <td>0</td>\n",
       "    </tr>\n",
       "    <tr>\n",
       "      <th>16.0</th>\n",
       "      <td>0</td>\n",
       "      <td>0</td>\n",
       "      <td>0</td>\n",
       "      <td>0</td>\n",
       "      <td>0</td>\n",
       "      <td>0</td>\n",
       "      <td>57</td>\n",
       "    </tr>\n",
       "  </tbody>\n",
       "</table>\n",
       "</div>"
      ],
      "text/plain": [
       "predicted Labels  1.0   2.0   4.0   10.0  11.0  12.0  16.0\n",
       "Actual Label                                              \n",
       "1.0                114     0     1     0     0     0     1\n",
       "2.0                  0    10     0     0     0     0     0\n",
       "4.0                  1     0   313     0     0     2     0\n",
       "10.0                 0     0     0     2     0     0     0\n",
       "11.0                 0     1     0     0    32     0     0\n",
       "12.0                 0     0     0     0     0     1     0\n",
       "16.0                 0     0     0     0     0     0    57"
      ]
     },
     "execution_count": 83,
     "metadata": {},
     "output_type": "execute_result"
    }
   ],
   "source": [
    "confusion_matrix(y_test, y_preds_final_linear_svc_clf)\n",
    "pd.crosstab(y_test, y_preds_final_linear_svc_clf, rownames=[\"Actual Label\"],\n",
    "            colnames=[\"predicted Labels\"]\n",
    "           )"
   ]
  },
  {
   "cell_type": "code",
   "execution_count": 84,
   "id": "8fd9f390-4b43-4e05-a68b-088c203209d4",
   "metadata": {},
   "outputs": [
    {
     "data": {
      "text/plain": [
       "<sklearn.metrics._plot.confusion_matrix.ConfusionMatrixDisplay at 0x148ac51f0>"
      ]
     },
     "execution_count": 84,
     "metadata": {},
     "output_type": "execute_result"
    },
    {
     "data": {
      "image/png": "[encoded data removed]",
      "text/plain": [
       "<Figure size 640x480 with 2 Axes>"
      ]
     },
     "metadata": {},
     "output_type": "display_data"
    }
   ],
   "source": [
    "ConfusionMatrixDisplay.from_estimator(estimator=final_linear_svc_clf, X=transformed_X, y=y)"
   ]
  },
  {
   "attachments": {},
   "cell_type": "markdown",
   "id": "76b2604e-2aa6-4673-be7d-45ed0b8e0e0a",
   "metadata": {},
   "source": [
    "**knn_classifier**"
   ]
  },
  {
   "cell_type": "code",
   "execution_count": 85,
   "id": "f9b9fbb3-e82b-42c6-b360-290a1269ae7b",
   "metadata": {},
   "outputs": [
    {
     "data": {
      "text/html": [
       "<div>\n",
       "<style scoped>\n",
       "    .dataframe tbody tr th:only-of-type {\n",
       "        vertical-align: middle;\n",
       "    }\n",
       "\n",
       "    .dataframe tbody tr th {\n",
       "        vertical-align: top;\n",
       "    }\n",
       "\n",
       "    .dataframe thead th {\n",
       "        text-align: right;\n",
       "    }\n",
       "</style>\n",
       "<table border=\"1\" class=\"dataframe\">\n",
       "  <thead>\n",
       "    <tr style=\"text-align: right;\">\n",
       "      <th>predicted Labels</th>\n",
       "      <th>1.0</th>\n",
       "      <th>2.0</th>\n",
       "      <th>4.0</th>\n",
       "      <th>10.0</th>\n",
       "      <th>11.0</th>\n",
       "      <th>16.0</th>\n",
       "    </tr>\n",
       "    <tr>\n",
       "      <th>Actual Label</th>\n",
       "      <th></th>\n",
       "      <th></th>\n",
       "      <th></th>\n",
       "      <th></th>\n",
       "      <th></th>\n",
       "      <th></th>\n",
       "    </tr>\n",
       "  </thead>\n",
       "  <tbody>\n",
       "    <tr>\n",
       "      <th>1.0</th>\n",
       "      <td>106</td>\n",
       "      <td>0</td>\n",
       "      <td>9</td>\n",
       "      <td>0</td>\n",
       "      <td>0</td>\n",
       "      <td>1</td>\n",
       "    </tr>\n",
       "    <tr>\n",
       "      <th>2.0</th>\n",
       "      <td>0</td>\n",
       "      <td>10</td>\n",
       "      <td>0</td>\n",
       "      <td>0</td>\n",
       "      <td>0</td>\n",
       "      <td>0</td>\n",
       "    </tr>\n",
       "    <tr>\n",
       "      <th>4.0</th>\n",
       "      <td>12</td>\n",
       "      <td>1</td>\n",
       "      <td>303</td>\n",
       "      <td>0</td>\n",
       "      <td>0</td>\n",
       "      <td>0</td>\n",
       "    </tr>\n",
       "    <tr>\n",
       "      <th>10.0</th>\n",
       "      <td>0</td>\n",
       "      <td>0</td>\n",
       "      <td>0</td>\n",
       "      <td>2</td>\n",
       "      <td>0</td>\n",
       "      <td>0</td>\n",
       "    </tr>\n",
       "    <tr>\n",
       "      <th>11.0</th>\n",
       "      <td>0</td>\n",
       "      <td>0</td>\n",
       "      <td>1</td>\n",
       "      <td>0</td>\n",
       "      <td>32</td>\n",
       "      <td>0</td>\n",
       "    </tr>\n",
       "    <tr>\n",
       "      <th>12.0</th>\n",
       "      <td>1</td>\n",
       "      <td>0</td>\n",
       "      <td>0</td>\n",
       "      <td>0</td>\n",
       "      <td>0</td>\n",
       "      <td>0</td>\n",
       "    </tr>\n",
       "    <tr>\n",
       "      <th>16.0</th>\n",
       "      <td>0</td>\n",
       "      <td>0</td>\n",
       "      <td>1</td>\n",
       "      <td>0</td>\n",
       "      <td>0</td>\n",
       "      <td>56</td>\n",
       "    </tr>\n",
       "  </tbody>\n",
       "</table>\n",
       "</div>"
      ],
      "text/plain": [
       "predicted Labels  1.0   2.0   4.0   10.0  11.0  16.0\n",
       "Actual Label                                        \n",
       "1.0                106     0     9     0     0     1\n",
       "2.0                  0    10     0     0     0     0\n",
       "4.0                 12     1   303     0     0     0\n",
       "10.0                 0     0     0     2     0     0\n",
       "11.0                 0     0     1     0    32     0\n",
       "12.0                 1     0     0     0     0     0\n",
       "16.0                 0     0     1     0     0    56"
      ]
     },
     "execution_count": 85,
     "metadata": {},
     "output_type": "execute_result"
    }
   ],
   "source": [
    "confusion_matrix(y_test, y_preds_final_knn_classifier)\n",
    "pd.crosstab(y_test, y_preds_final_knn_classifier, rownames=[\"Actual Label\"],\n",
    "            colnames=[\"predicted Labels\"]\n",
    "           )"
   ]
  },
  {
   "cell_type": "code",
   "execution_count": 86,
   "id": "0fd3030f-8739-4594-aa5c-9f6fb4f6d981",
   "metadata": {},
   "outputs": [
    {
     "data": {
      "text/plain": [
       "<sklearn.metrics._plot.confusion_matrix.ConfusionMatrixDisplay at 0x148edcd70>"
      ]
     },
     "execution_count": 86,
     "metadata": {},
     "output_type": "execute_result"
    },
    {
     "data": {
      "image/png": "[encoded data removed]",
      "text/plain": [
       "<Figure size 640x480 with 2 Axes>"
      ]
     },
     "metadata": {},
     "output_type": "display_data"
    }
   ],
   "source": [
    "ConfusionMatrixDisplay.from_estimator(estimator=final_knn_classifier, X=transformed_X, y=y)"
   ]
  },
  {
   "attachments": {},
   "cell_type": "markdown",
   "id": "46399c57-c7cc-40fb-afd6-0631b336b4d4",
   "metadata": {},
   "source": [
    "#### Model Ranking Based on Confusion Matrix\n",
    "\n",
    "\n",
    "1. `final_random_forest_classifier_model`\n",
    "2. `final_linear_svc_clf`\n",
    "3. `final_knn_classifier`"
   ]
  },
  {
   "attachments": {},
   "cell_type": "markdown",
   "id": "efc03f7a-1e35-4f14-b88f-62939e61120f",
   "metadata": {},
   "source": [
    "#### 4.4 Classification Report\n"
   ]
  },
  {
   "cell_type": "code",
   "execution_count": 88,
   "id": "d2962d89-7d97-4c41-8a99-3be54b4aff8a",
   "metadata": {},
   "outputs": [],
   "source": [
    "from sklearn.metrics import classification_report"
   ]
  },
  {
   "attachments": {},
   "cell_type": "markdown",
   "id": "9734ecf8-6fd7-4891-805c-201dfbf1750e",
   "metadata": {},
   "source": [
    "**linear_svc_clf**"
   ]
  },
  {
   "cell_type": "code",
   "execution_count": 89,
   "id": "9734d41a-0c3d-4b42-b8b7-a37aa611f760",
   "metadata": {},
   "outputs": [
    {
     "name": "stdout",
     "output_type": "stream",
     "text": [
      "              precision    recall  f1-score   support\n",
      "\n",
      "         1.0       0.99      0.98      0.99       116\n",
      "         2.0       0.91      1.00      0.95        10\n",
      "         4.0       1.00      0.99      0.99       316\n",
      "        10.0       1.00      1.00      1.00         2\n",
      "        11.0       1.00      0.97      0.98        33\n",
      "        12.0       0.33      1.00      0.50         1\n",
      "        16.0       0.98      1.00      0.99        57\n",
      "\n",
      "    accuracy                           0.99       535\n",
      "   macro avg       0.89      0.99      0.92       535\n",
      "weighted avg       0.99      0.99      0.99       535\n",
      "\n"
     ]
    }
   ],
   "source": [
    "print(classification_report(y_test, y_preds_final_linear_svc_clf))"
   ]
  },
  {
   "attachments": {},
   "cell_type": "markdown",
   "id": "6c06f0c5-07c5-4977-8126-923ac9a12b44",
   "metadata": {},
   "source": [
    "**knn_classifier**"
   ]
  },
  {
   "cell_type": "code",
   "execution_count": 90,
   "id": "cfdbf55a-9edf-43c5-a2eb-844a22d3e77d",
   "metadata": {},
   "outputs": [
    {
     "name": "stdout",
     "output_type": "stream",
     "text": [
      "              precision    recall  f1-score   support\n",
      "\n",
      "         1.0       0.89      0.91      0.90       116\n",
      "         2.0       0.91      1.00      0.95        10\n",
      "         4.0       0.96      0.96      0.96       316\n",
      "        10.0       1.00      1.00      1.00         2\n",
      "        11.0       1.00      0.97      0.98        33\n",
      "        12.0       0.00      0.00      0.00         1\n",
      "        16.0       0.98      0.98      0.98        57\n",
      "\n",
      "    accuracy                           0.95       535\n",
      "   macro avg       0.82      0.83      0.83       535\n",
      "weighted avg       0.95      0.95      0.95       535\n",
      "\n"
     ]
    }
   ],
   "source": [
    "print(classification_report(y_test, y_preds_final_knn_classifier))"
   ]
  },
  {
   "attachments": {},
   "cell_type": "markdown",
   "id": "3604d22f-e642-4e9c-a049-8784ab7d7f30",
   "metadata": {},
   "source": [
    "**random_forest_classifier_model**"
   ]
  },
  {
   "cell_type": "code",
   "execution_count": 92,
   "id": "5d77e55c-ba17-4743-be51-c7ddfdaf0e99",
   "metadata": {},
   "outputs": [
    {
     "name": "stdout",
     "output_type": "stream",
     "text": [
      "              precision    recall  f1-score   support\n",
      "\n",
      "         1.0       0.99      0.98      0.99       116\n",
      "         2.0       0.91      1.00      0.95        10\n",
      "         4.0       1.00      0.99      0.99       316\n",
      "        10.0       1.00      1.00      1.00         2\n",
      "        11.0       1.00      0.97      0.98        33\n",
      "        12.0       0.33      1.00      0.50         1\n",
      "        16.0       0.98      1.00      0.99        57\n",
      "\n",
      "    accuracy                           0.99       535\n",
      "   macro avg       0.89      0.99      0.92       535\n",
      "weighted avg       0.99      0.99      0.99       535\n",
      "\n"
     ]
    }
   ],
   "source": [
    "print(classification_report(y_test, y_preds_final_random_forest_classifier_model))"
   ]
  },
  {
   "attachments": {},
   "cell_type": "markdown",
   "id": "df19492f-c445-4cd7-bc32-5913534823fc",
   "metadata": {},
   "source": [
    "## 6. Save and load a trained model"
   ]
  },
  {
   "attachments": {},
   "cell_type": "markdown",
   "id": "cd012cce-8fc3-4db6-b15c-6f97e8527707",
   "metadata": {},
   "source": [
    "**random_forest_classifier_model**"
   ]
  },
  {
   "cell_type": "code",
   "execution_count": 97,
   "id": "d6d464c7-442a-42c7-9378-0373690e2b2f",
   "metadata": {},
   "outputs": [],
   "source": [
    "import pickle\n",
    "pickle.dump(final_random_forest_classifier_model, open(\"./models/final_random_forest_classifier_model.pkl\", \"wb\"))"
   ]
  },
  {
   "attachments": {},
   "cell_type": "markdown",
   "id": "be5aca3f-d4ee-4e67-8da0-28f453742b29",
   "metadata": {},
   "source": [
    "**linear_svc_clf**"
   ]
  },
  {
   "cell_type": "code",
   "execution_count": 98,
   "id": "aea3c71a-cd11-4f9f-a5d1-96550ad4d64a",
   "metadata": {},
   "outputs": [],
   "source": [
    "pickle.dump(final_linear_svc_clf, open(\"./models/final_linear_svc_clf_model.pkl\", \"wb\"))"
   ]
  },
  {
   "attachments": {},
   "cell_type": "markdown",
   "id": "58c4272a-91f2-461a-82c2-0100db0f6160",
   "metadata": {},
   "source": [
    "**knn_classifier**"
   ]
  },
  {
   "cell_type": "code",
   "execution_count": 99,
   "id": "69a5741c-1569-45e3-b1f3-2aa9716a6f9d",
   "metadata": {},
   "outputs": [],
   "source": [
    "pickle.dump(final_knn_classifier, open(\"./models/final_knn_classifier_model.pkl\", \"wb\"))"
   ]
  },
  {
   "attachments": {},
   "cell_type": "markdown",
   "id": "7a10a6ee-a2a2-4ed1-a7c5-a2d887bc1686",
   "metadata": {},
   "source": [
    "# Conclusion\n",
    "\n",
    "In the evaluation of our models, the random forest classifier demonstrated the highest performance, followed by the linear support vector classifier (LinearSVC) and k-nearest neighbors (KNN) classifier.\n"
   ]
  },
  {
   "attachments": {},
   "cell_type": "markdown",
   "id": "04f1c9c9",
   "metadata": {},
   "source": []
  }
 ],
 "metadata": {
  "kernelspec": {
   "display_name": "Python 3 (ipykernel)",
   "language": "python",
   "name": "python3"
  },
  "language_info": {
   "codemirror_mode": {
    "name": "ipython",
    "version": 3
   },
   "file_extension": ".py",
   "mimetype": "text/x-python",
   "name": "python",
   "nbconvert_exporter": "python",
   "pygments_lexer": "ipython3",
   "version": "3.12.2"
  }
 },
 "nbformat": 4,
 "nbformat_minor": 5
}
