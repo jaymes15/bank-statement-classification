{
 "cells": [
  {
   "cell_type": "markdown",
   "id": "4c92a84c-15ef-413e-b582-1657597ba6ac",
   "metadata": {},
   "source": [
    "# Bank Statement Description Classification\n",
    "\n",
    "This Jupyter notebook provides a machine learning approach to classify bank statement descriptions into predefined categories. Bank statement descriptions often contain abbreviated or vague information, making it challenging to interpret their meaning. By classifying these descriptions into categories, financial institutions can better analyze transaction data for various purposes such as fraud detection, customer segmentation, and trend analysis.\n",
    "\n",
    "What we're going to cover:\n",
    "\n",
    "1. Getting the data ready\n",
    "2. Choose the right estimator/algorithm for our problems\n",
    "3. Fit the model/algorithm and use it to make predictions on our data\n",
    "4. Evaluating a model\n",
    "5. Improve a model\n",
    "6. Save and load a trained model\n",
    "7. Putting it all together!"
   ]
  },
  {
   "cell_type": "markdown",
   "id": "714e7471-b6e1-44ec-9753-47140031be51",
   "metadata": {},
   "source": [
    "## 1. Getting the data ready"
   ]
  },
  {
   "cell_type": "code",
   "execution_count": 55,
   "id": "d7117d54-c8ce-4708-bf48-44dffb58d6cb",
   "metadata": {},
   "outputs": [
    {
     "data": {
      "text/html": [
       "<div>\n",
       "<style scoped>\n",
       "    .dataframe tbody tr th:only-of-type {\n",
       "        vertical-align: middle;\n",
       "    }\n",
       "\n",
       "    .dataframe tbody tr th {\n",
       "        vertical-align: top;\n",
       "    }\n",
       "\n",
       "    .dataframe thead th {\n",
       "        text-align: right;\n",
       "    }\n",
       "</style>\n",
       "<table border=\"1\" class=\"dataframe\">\n",
       "  <thead>\n",
       "    <tr style=\"text-align: right;\">\n",
       "      <th></th>\n",
       "      <th>DESCRIPTION</th>\n",
       "      <th>TRX_TYPE</th>\n",
       "      <th>CLASS</th>\n",
       "      <th>SUB-CLASS</th>\n",
       "      <th>BANK</th>\n",
       "    </tr>\n",
       "  </thead>\n",
       "  <tbody>\n",
       "    <tr>\n",
       "      <th>0</th>\n",
       "      <td>AKANNI O EMMANUEL/MOB/UTO/ROTIMI EMMANUE/t/184...</td>\n",
       "      <td>Credit</td>\n",
       "      <td>USSD_TRANSFER</td>\n",
       "      <td>NaN</td>\n",
       "      <td>Access Bank</td>\n",
       "    </tr>\n",
       "    <tr>\n",
       "      <th>1</th>\n",
       "      <td>TRF/Transfer/FRMROTIMI EMMANUEL AKANNI TO MUHA...</td>\n",
       "      <td>Debit</td>\n",
       "      <td>BANK_TRANSFER</td>\n",
       "      <td>NaN</td>\n",
       "      <td>Access Bank</td>\n",
       "    </tr>\n",
       "    <tr>\n",
       "      <th>2</th>\n",
       "      <td>KANU WINNER U/MOBILE/UNION Transfer from KANU ...</td>\n",
       "      <td>Credit</td>\n",
       "      <td>APP_TRANSFER</td>\n",
       "      <td>NaN</td>\n",
       "      <td>Access Bank</td>\n",
       "    </tr>\n",
       "    <tr>\n",
       "      <th>3</th>\n",
       "      <td>TRF//FRMROTIMI EMMANUEL AKANNI TO ROTIMI EMMAN...</td>\n",
       "      <td>Credit</td>\n",
       "      <td>APP_TRANSFER</td>\n",
       "      <td>NaN</td>\n",
       "      <td>Access Bank</td>\n",
       "    </tr>\n",
       "    <tr>\n",
       "      <th>4</th>\n",
       "      <td>TRF/NULL/FRMUFUOMA BENEDICTA MARCHIE TO ROTIMI...</td>\n",
       "      <td>Credit</td>\n",
       "      <td>APP_TRANSFER</td>\n",
       "      <td>NaN</td>\n",
       "      <td>Access Bank</td>\n",
       "    </tr>\n",
       "  </tbody>\n",
       "</table>\n",
       "</div>"
      ],
      "text/plain": [
       "                                         DESCRIPTION TRX_TYPE          CLASS  \\\n",
       "0  AKANNI O EMMANUEL/MOB/UTO/ROTIMI EMMANUE/t/184...   Credit  USSD_TRANSFER   \n",
       "1  TRF/Transfer/FRMROTIMI EMMANUEL AKANNI TO MUHA...    Debit  BANK_TRANSFER   \n",
       "2  KANU WINNER U/MOBILE/UNION Transfer from KANU ...   Credit   APP_TRANSFER   \n",
       "3  TRF//FRMROTIMI EMMANUEL AKANNI TO ROTIMI EMMAN...   Credit   APP_TRANSFER   \n",
       "4  TRF/NULL/FRMUFUOMA BENEDICTA MARCHIE TO ROTIMI...   Credit   APP_TRANSFER   \n",
       "\n",
       "  SUB-CLASS         BANK  \n",
       "0       NaN  Access Bank  \n",
       "1       NaN  Access Bank  \n",
       "2       NaN  Access Bank  \n",
       "3       NaN  Access Bank  \n",
       "4       NaN  Access Bank  "
      ]
     },
     "execution_count": 55,
     "metadata": {},
     "output_type": "execute_result"
    }
   ],
   "source": [
    "import pandas as pd\n",
    "import numpy as np\n",
    "\n",
    "bank_statement = pd.read_csv(\"./data/bankstatement_seyi.csv\")\n",
    "bank_statement.head()"
   ]
  },
  {
   "cell_type": "code",
   "execution_count": 56,
   "id": "e0f21314-4d12-41c4-b9b3-ca3bdec32890",
   "metadata": {},
   "outputs": [
    {
     "data": {
      "text/plain": [
       "4113"
      ]
     },
     "execution_count": 56,
     "metadata": {},
     "output_type": "execute_result"
    }
   ],
   "source": [
    "# Total number of rows in bank statement\n",
    "len(bank_statement)"
   ]
  },
  {
   "cell_type": "code",
   "execution_count": 57,
   "id": "569571a5-f2f1-4220-9a26-2ad7a2e224d6",
   "metadata": {},
   "outputs": [
    {
     "data": {
      "text/plain": [
       "DESCRIPTION    object\n",
       "TRX_TYPE       object\n",
       "CLASS          object\n",
       "SUB-CLASS      object\n",
       "BANK           object\n",
       "dtype: object"
      ]
     },
     "execution_count": 57,
     "metadata": {},
     "output_type": "execute_result"
    }
   ],
   "source": [
    "bank_statement.dtypes"
   ]
  },
  {
   "cell_type": "markdown",
   "id": "d59a0c24-e5ae-488b-92e5-62759739796c",
   "metadata": {},
   "source": [
    "### 1a. Drop N/A columns"
   ]
  },
  {
   "cell_type": "code",
   "execution_count": 58,
   "id": "fe69474d-af92-4e61-b761-a771b461d5c7",
   "metadata": {},
   "outputs": [
    {
     "data": {
      "text/plain": [
       "DESCRIPTION       2\n",
       "TRX_TYPE          4\n",
       "CLASS            13\n",
       "SUB-CLASS      1183\n",
       "BANK             10\n",
       "dtype: int64"
      ]
     },
     "execution_count": 58,
     "metadata": {},
     "output_type": "execute_result"
    }
   ],
   "source": [
    "# Identify Column With N/A values\n",
    "bank_statement.isna().sum()"
   ]
  },
  {
   "cell_type": "code",
   "execution_count": 59,
   "id": "1e70917f-6737-48de-be06-cfb781faa0b2",
   "metadata": {},
   "outputs": [
    {
     "data": {
      "text/html": [
       "<div>\n",
       "<style scoped>\n",
       "    .dataframe tbody tr th:only-of-type {\n",
       "        vertical-align: middle;\n",
       "    }\n",
       "\n",
       "    .dataframe tbody tr th {\n",
       "        vertical-align: top;\n",
       "    }\n",
       "\n",
       "    .dataframe thead th {\n",
       "        text-align: right;\n",
       "    }\n",
       "</style>\n",
       "<table border=\"1\" class=\"dataframe\">\n",
       "  <thead>\n",
       "    <tr style=\"text-align: right;\">\n",
       "      <th></th>\n",
       "      <th>DESCRIPTION</th>\n",
       "      <th>TRX_TYPE</th>\n",
       "      <th>CLASS</th>\n",
       "      <th>SUB-CLASS</th>\n",
       "      <th>BANK</th>\n",
       "    </tr>\n",
       "  </thead>\n",
       "  <tbody>\n",
       "    <tr>\n",
       "      <th>5</th>\n",
       "      <td>TRF/REFUND/FRMROTIMI EMMANUEL AKANNI TO KANU W...</td>\n",
       "      <td>Debit</td>\n",
       "      <td>APP_TRANSFER</td>\n",
       "      <td>REFUND</td>\n",
       "      <td>Access Bank</td>\n",
       "    </tr>\n",
       "    <tr>\n",
       "      <th>6</th>\n",
       "      <td>TRF/Meat pie/FRMROTIMI EMMANUEL AKANNI TO AKIN...</td>\n",
       "      <td>Debit</td>\n",
       "      <td>APP_TRANSFER</td>\n",
       "      <td>Meat pie</td>\n",
       "      <td>Access Bank</td>\n",
       "    </tr>\n",
       "    <tr>\n",
       "      <th>12</th>\n",
       "      <td>TRF/Fuel/FRMUFUOMA BENEDICTA MARCHIE TO ROTIMI...</td>\n",
       "      <td>Credit</td>\n",
       "      <td>APP_TRANSFER</td>\n",
       "      <td>Fuel</td>\n",
       "      <td>Access Bank</td>\n",
       "    </tr>\n",
       "    <tr>\n",
       "      <th>15</th>\n",
       "      <td>AIRTIME/ 9MOBILE/08179000904</td>\n",
       "      <td>Debit</td>\n",
       "      <td>UTILITY</td>\n",
       "      <td>Airtime</td>\n",
       "      <td>Access Bank</td>\n",
       "    </tr>\n",
       "    <tr>\n",
       "      <th>16</th>\n",
       "      <td>RVSL_AIRTIME/ 9MOBILE/08179000904</td>\n",
       "      <td>Credit</td>\n",
       "      <td>REFUND</td>\n",
       "      <td>Airtime</td>\n",
       "      <td>Access Bank</td>\n",
       "    </tr>\n",
       "  </tbody>\n",
       "</table>\n",
       "</div>"
      ],
      "text/plain": [
       "                                          DESCRIPTION TRX_TYPE         CLASS  \\\n",
       "5   TRF/REFUND/FRMROTIMI EMMANUEL AKANNI TO KANU W...    Debit  APP_TRANSFER   \n",
       "6   TRF/Meat pie/FRMROTIMI EMMANUEL AKANNI TO AKIN...    Debit  APP_TRANSFER   \n",
       "12  TRF/Fuel/FRMUFUOMA BENEDICTA MARCHIE TO ROTIMI...   Credit  APP_TRANSFER   \n",
       "15                       AIRTIME/ 9MOBILE/08179000904    Debit       UTILITY   \n",
       "16                  RVSL_AIRTIME/ 9MOBILE/08179000904   Credit        REFUND   \n",
       "\n",
       "   SUB-CLASS         BANK  \n",
       "5     REFUND  Access Bank  \n",
       "6   Meat pie  Access Bank  \n",
       "12      Fuel  Access Bank  \n",
       "15   Airtime  Access Bank  \n",
       "16   Airtime  Access Bank  "
      ]
     },
     "execution_count": 59,
     "metadata": {},
     "output_type": "execute_result"
    }
   ],
   "source": [
    "bank_statement.dropna(inplace=True)\n",
    "bank_statement.head()"
   ]
  },
  {
   "cell_type": "code",
   "execution_count": 60,
   "id": "c00484f1-6949-47dc-a31b-0b6f6a52018d",
   "metadata": {},
   "outputs": [
    {
     "data": {
      "text/plain": [
       "DESCRIPTION    0\n",
       "TRX_TYPE       0\n",
       "CLASS          0\n",
       "SUB-CLASS      0\n",
       "BANK           0\n",
       "dtype: int64"
      ]
     },
     "execution_count": 60,
     "metadata": {},
     "output_type": "execute_result"
    }
   ],
   "source": [
    "bank_statement.isna().sum()"
   ]
  },
  {
   "cell_type": "markdown",
   "id": "70169a19-0490-4675-b6b6-3795297b40cf",
   "metadata": {},
   "source": [
    "### 1b.Removing Unnecessary Columns\n",
    "Remove unwanted columns, keeping only \"description\" and \"class\"."
   ]
  },
  {
   "cell_type": "code",
   "execution_count": 61,
   "id": "15331d4f-8db4-4c1d-bcbf-034bc6dd12a1",
   "metadata": {},
   "outputs": [
    {
     "data": {
      "text/html": [
       "<div>\n",
       "<style scoped>\n",
       "    .dataframe tbody tr th:only-of-type {\n",
       "        vertical-align: middle;\n",
       "    }\n",
       "\n",
       "    .dataframe tbody tr th {\n",
       "        vertical-align: top;\n",
       "    }\n",
       "\n",
       "    .dataframe thead th {\n",
       "        text-align: right;\n",
       "    }\n",
       "</style>\n",
       "<table border=\"1\" class=\"dataframe\">\n",
       "  <thead>\n",
       "    <tr style=\"text-align: right;\">\n",
       "      <th></th>\n",
       "      <th>DESCRIPTION</th>\n",
       "      <th>CLASS</th>\n",
       "      <th>SUB-CLASS</th>\n",
       "      <th>BANK</th>\n",
       "    </tr>\n",
       "  </thead>\n",
       "  <tbody>\n",
       "    <tr>\n",
       "      <th>5</th>\n",
       "      <td>TRF/REFUND/FRMROTIMI EMMANUEL AKANNI TO KANU W...</td>\n",
       "      <td>APP_TRANSFER</td>\n",
       "      <td>REFUND</td>\n",
       "      <td>Access Bank</td>\n",
       "    </tr>\n",
       "    <tr>\n",
       "      <th>6</th>\n",
       "      <td>TRF/Meat pie/FRMROTIMI EMMANUEL AKANNI TO AKIN...</td>\n",
       "      <td>APP_TRANSFER</td>\n",
       "      <td>Meat pie</td>\n",
       "      <td>Access Bank</td>\n",
       "    </tr>\n",
       "    <tr>\n",
       "      <th>12</th>\n",
       "      <td>TRF/Fuel/FRMUFUOMA BENEDICTA MARCHIE TO ROTIMI...</td>\n",
       "      <td>APP_TRANSFER</td>\n",
       "      <td>Fuel</td>\n",
       "      <td>Access Bank</td>\n",
       "    </tr>\n",
       "    <tr>\n",
       "      <th>15</th>\n",
       "      <td>AIRTIME/ 9MOBILE/08179000904</td>\n",
       "      <td>UTILITY</td>\n",
       "      <td>Airtime</td>\n",
       "      <td>Access Bank</td>\n",
       "    </tr>\n",
       "    <tr>\n",
       "      <th>16</th>\n",
       "      <td>RVSL_AIRTIME/ 9MOBILE/08179000904</td>\n",
       "      <td>REFUND</td>\n",
       "      <td>Airtime</td>\n",
       "      <td>Access Bank</td>\n",
       "    </tr>\n",
       "  </tbody>\n",
       "</table>\n",
       "</div>"
      ],
      "text/plain": [
       "                                          DESCRIPTION         CLASS SUB-CLASS  \\\n",
       "5   TRF/REFUND/FRMROTIMI EMMANUEL AKANNI TO KANU W...  APP_TRANSFER    REFUND   \n",
       "6   TRF/Meat pie/FRMROTIMI EMMANUEL AKANNI TO AKIN...  APP_TRANSFER  Meat pie   \n",
       "12  TRF/Fuel/FRMUFUOMA BENEDICTA MARCHIE TO ROTIMI...  APP_TRANSFER      Fuel   \n",
       "15                       AIRTIME/ 9MOBILE/08179000904       UTILITY   Airtime   \n",
       "16                  RVSL_AIRTIME/ 9MOBILE/08179000904        REFUND   Airtime   \n",
       "\n",
       "           BANK  \n",
       "5   Access Bank  \n",
       "6   Access Bank  \n",
       "12  Access Bank  \n",
       "15  Access Bank  \n",
       "16  Access Bank  "
      ]
     },
     "execution_count": 61,
     "metadata": {},
     "output_type": "execute_result"
    }
   ],
   "source": [
    "streamlined_bank_statement = bank_statement.drop(\"TRX_TYPE\", axis=1)\n",
    "streamlined_bank_statement.head()"
   ]
  },
  {
   "cell_type": "code",
   "execution_count": 62,
   "id": "329adca4-ffe7-4bd4-a58c-84ef174f3f86",
   "metadata": {},
   "outputs": [
    {
     "data": {
      "text/html": [
       "<div>\n",
       "<style scoped>\n",
       "    .dataframe tbody tr th:only-of-type {\n",
       "        vertical-align: middle;\n",
       "    }\n",
       "\n",
       "    .dataframe tbody tr th {\n",
       "        vertical-align: top;\n",
       "    }\n",
       "\n",
       "    .dataframe thead th {\n",
       "        text-align: right;\n",
       "    }\n",
       "</style>\n",
       "<table border=\"1\" class=\"dataframe\">\n",
       "  <thead>\n",
       "    <tr style=\"text-align: right;\">\n",
       "      <th></th>\n",
       "      <th>DESCRIPTION</th>\n",
       "      <th>CLASS</th>\n",
       "      <th>BANK</th>\n",
       "    </tr>\n",
       "  </thead>\n",
       "  <tbody>\n",
       "    <tr>\n",
       "      <th>5</th>\n",
       "      <td>TRF/REFUND/FRMROTIMI EMMANUEL AKANNI TO KANU W...</td>\n",
       "      <td>APP_TRANSFER</td>\n",
       "      <td>Access Bank</td>\n",
       "    </tr>\n",
       "    <tr>\n",
       "      <th>6</th>\n",
       "      <td>TRF/Meat pie/FRMROTIMI EMMANUEL AKANNI TO AKIN...</td>\n",
       "      <td>APP_TRANSFER</td>\n",
       "      <td>Access Bank</td>\n",
       "    </tr>\n",
       "    <tr>\n",
       "      <th>12</th>\n",
       "      <td>TRF/Fuel/FRMUFUOMA BENEDICTA MARCHIE TO ROTIMI...</td>\n",
       "      <td>APP_TRANSFER</td>\n",
       "      <td>Access Bank</td>\n",
       "    </tr>\n",
       "    <tr>\n",
       "      <th>15</th>\n",
       "      <td>AIRTIME/ 9MOBILE/08179000904</td>\n",
       "      <td>UTILITY</td>\n",
       "      <td>Access Bank</td>\n",
       "    </tr>\n",
       "    <tr>\n",
       "      <th>16</th>\n",
       "      <td>RVSL_AIRTIME/ 9MOBILE/08179000904</td>\n",
       "      <td>REFUND</td>\n",
       "      <td>Access Bank</td>\n",
       "    </tr>\n",
       "  </tbody>\n",
       "</table>\n",
       "</div>"
      ],
      "text/plain": [
       "                                          DESCRIPTION         CLASS  \\\n",
       "5   TRF/REFUND/FRMROTIMI EMMANUEL AKANNI TO KANU W...  APP_TRANSFER   \n",
       "6   TRF/Meat pie/FRMROTIMI EMMANUEL AKANNI TO AKIN...  APP_TRANSFER   \n",
       "12  TRF/Fuel/FRMUFUOMA BENEDICTA MARCHIE TO ROTIMI...  APP_TRANSFER   \n",
       "15                       AIRTIME/ 9MOBILE/08179000904       UTILITY   \n",
       "16                  RVSL_AIRTIME/ 9MOBILE/08179000904        REFUND   \n",
       "\n",
       "           BANK  \n",
       "5   Access Bank  \n",
       "6   Access Bank  \n",
       "12  Access Bank  \n",
       "15  Access Bank  \n",
       "16  Access Bank  "
      ]
     },
     "execution_count": 62,
     "metadata": {},
     "output_type": "execute_result"
    }
   ],
   "source": [
    "streamlined_bank_statement = streamlined_bank_statement.drop(\"SUB-CLASS\", axis=1)\n",
    "streamlined_bank_statement.head()"
   ]
  },
  {
   "cell_type": "code",
   "execution_count": 63,
   "id": "6347db98-c10c-4775-beb3-f28c9e4b4440",
   "metadata": {},
   "outputs": [
    {
     "data": {
      "text/html": [
       "<div>\n",
       "<style scoped>\n",
       "    .dataframe tbody tr th:only-of-type {\n",
       "        vertical-align: middle;\n",
       "    }\n",
       "\n",
       "    .dataframe tbody tr th {\n",
       "        vertical-align: top;\n",
       "    }\n",
       "\n",
       "    .dataframe thead th {\n",
       "        text-align: right;\n",
       "    }\n",
       "</style>\n",
       "<table border=\"1\" class=\"dataframe\">\n",
       "  <thead>\n",
       "    <tr style=\"text-align: right;\">\n",
       "      <th></th>\n",
       "      <th>DESCRIPTION</th>\n",
       "      <th>CLASS</th>\n",
       "    </tr>\n",
       "  </thead>\n",
       "  <tbody>\n",
       "    <tr>\n",
       "      <th>5</th>\n",
       "      <td>TRF/REFUND/FRMROTIMI EMMANUEL AKANNI TO KANU W...</td>\n",
       "      <td>APP_TRANSFER</td>\n",
       "    </tr>\n",
       "    <tr>\n",
       "      <th>6</th>\n",
       "      <td>TRF/Meat pie/FRMROTIMI EMMANUEL AKANNI TO AKIN...</td>\n",
       "      <td>APP_TRANSFER</td>\n",
       "    </tr>\n",
       "    <tr>\n",
       "      <th>12</th>\n",
       "      <td>TRF/Fuel/FRMUFUOMA BENEDICTA MARCHIE TO ROTIMI...</td>\n",
       "      <td>APP_TRANSFER</td>\n",
       "    </tr>\n",
       "    <tr>\n",
       "      <th>15</th>\n",
       "      <td>AIRTIME/ 9MOBILE/08179000904</td>\n",
       "      <td>UTILITY</td>\n",
       "    </tr>\n",
       "    <tr>\n",
       "      <th>16</th>\n",
       "      <td>RVSL_AIRTIME/ 9MOBILE/08179000904</td>\n",
       "      <td>REFUND</td>\n",
       "    </tr>\n",
       "  </tbody>\n",
       "</table>\n",
       "</div>"
      ],
      "text/plain": [
       "                                          DESCRIPTION         CLASS\n",
       "5   TRF/REFUND/FRMROTIMI EMMANUEL AKANNI TO KANU W...  APP_TRANSFER\n",
       "6   TRF/Meat pie/FRMROTIMI EMMANUEL AKANNI TO AKIN...  APP_TRANSFER\n",
       "12  TRF/Fuel/FRMUFUOMA BENEDICTA MARCHIE TO ROTIMI...  APP_TRANSFER\n",
       "15                       AIRTIME/ 9MOBILE/08179000904       UTILITY\n",
       "16                  RVSL_AIRTIME/ 9MOBILE/08179000904        REFUND"
      ]
     },
     "execution_count": 63,
     "metadata": {},
     "output_type": "execute_result"
    }
   ],
   "source": [
    "streamlined_bank_statement = streamlined_bank_statement.drop(\"BANK\", axis=1)\n",
    "streamlined_bank_statement.head()"
   ]
  },
  {
   "cell_type": "code",
   "execution_count": 64,
   "id": "913c507f-45c4-4645-9ea6-fa5bcae363a1",
   "metadata": {},
   "outputs": [
    {
     "data": {
      "text/plain": [
       "2916"
      ]
     },
     "execution_count": 64,
     "metadata": {},
     "output_type": "execute_result"
    }
   ],
   "source": [
    "# Check Number of Rows\n",
    "len(streamlined_bank_statement)"
   ]
  },
  {
   "cell_type": "markdown",
   "id": "4a5db8dd-308a-44fb-bcf5-a95390d10ada",
   "metadata": {},
   "source": [
    "### 1c. Rename Columns"
   ]
  },
  {
   "cell_type": "code",
   "execution_count": 65,
   "id": "3520691e-d689-4793-98d2-8079195eba2f",
   "metadata": {},
   "outputs": [
    {
     "data": {
      "text/html": [
       "<div>\n",
       "<style scoped>\n",
       "    .dataframe tbody tr th:only-of-type {\n",
       "        vertical-align: middle;\n",
       "    }\n",
       "\n",
       "    .dataframe tbody tr th {\n",
       "        vertical-align: top;\n",
       "    }\n",
       "\n",
       "    .dataframe thead th {\n",
       "        text-align: right;\n",
       "    }\n",
       "</style>\n",
       "<table border=\"1\" class=\"dataframe\">\n",
       "  <thead>\n",
       "    <tr style=\"text-align: right;\">\n",
       "      <th></th>\n",
       "      <th>DESCRIPTION</th>\n",
       "      <th>CLASS</th>\n",
       "      <th>txn_description</th>\n",
       "    </tr>\n",
       "  </thead>\n",
       "  <tbody>\n",
       "    <tr>\n",
       "      <th>5</th>\n",
       "      <td>TRF/REFUND/FRMROTIMI EMMANUEL AKANNI TO KANU W...</td>\n",
       "      <td>APP_TRANSFER</td>\n",
       "      <td>TRF/REFUND/FRMROTIMI EMMANUEL AKANNI TO KANU W...</td>\n",
       "    </tr>\n",
       "    <tr>\n",
       "      <th>6</th>\n",
       "      <td>TRF/Meat pie/FRMROTIMI EMMANUEL AKANNI TO AKIN...</td>\n",
       "      <td>APP_TRANSFER</td>\n",
       "      <td>TRF/Meat pie/FRMROTIMI EMMANUEL AKANNI TO AKIN...</td>\n",
       "    </tr>\n",
       "    <tr>\n",
       "      <th>12</th>\n",
       "      <td>TRF/Fuel/FRMUFUOMA BENEDICTA MARCHIE TO ROTIMI...</td>\n",
       "      <td>APP_TRANSFER</td>\n",
       "      <td>TRF/Fuel/FRMUFUOMA BENEDICTA MARCHIE TO ROTIMI...</td>\n",
       "    </tr>\n",
       "    <tr>\n",
       "      <th>15</th>\n",
       "      <td>AIRTIME/ 9MOBILE/08179000904</td>\n",
       "      <td>UTILITY</td>\n",
       "      <td>AIRTIME/ 9MOBILE/08179000904</td>\n",
       "    </tr>\n",
       "    <tr>\n",
       "      <th>16</th>\n",
       "      <td>RVSL_AIRTIME/ 9MOBILE/08179000904</td>\n",
       "      <td>REFUND</td>\n",
       "      <td>RVSL_AIRTIME/ 9MOBILE/08179000904</td>\n",
       "    </tr>\n",
       "  </tbody>\n",
       "</table>\n",
       "</div>"
      ],
      "text/plain": [
       "                                          DESCRIPTION         CLASS  \\\n",
       "5   TRF/REFUND/FRMROTIMI EMMANUEL AKANNI TO KANU W...  APP_TRANSFER   \n",
       "6   TRF/Meat pie/FRMROTIMI EMMANUEL AKANNI TO AKIN...  APP_TRANSFER   \n",
       "12  TRF/Fuel/FRMUFUOMA BENEDICTA MARCHIE TO ROTIMI...  APP_TRANSFER   \n",
       "15                       AIRTIME/ 9MOBILE/08179000904       UTILITY   \n",
       "16                  RVSL_AIRTIME/ 9MOBILE/08179000904        REFUND   \n",
       "\n",
       "                                      txn_description  \n",
       "5   TRF/REFUND/FRMROTIMI EMMANUEL AKANNI TO KANU W...  \n",
       "6   TRF/Meat pie/FRMROTIMI EMMANUEL AKANNI TO AKIN...  \n",
       "12  TRF/Fuel/FRMUFUOMA BENEDICTA MARCHIE TO ROTIMI...  \n",
       "15                       AIRTIME/ 9MOBILE/08179000904  \n",
       "16                  RVSL_AIRTIME/ 9MOBILE/08179000904  "
      ]
     },
     "execution_count": 65,
     "metadata": {},
     "output_type": "execute_result"
    }
   ],
   "source": [
    "streamlined_bank_statement['txn_description'] = streamlined_bank_statement['DESCRIPTION']\n",
    "streamlined_bank_statement.head()"
   ]
  },
  {
   "cell_type": "code",
   "execution_count": 66,
   "id": "2e9ff5e4-70bb-4c8d-a1ce-95117615ea2e",
   "metadata": {},
   "outputs": [
    {
     "data": {
      "text/html": [
       "<div>\n",
       "<style scoped>\n",
       "    .dataframe tbody tr th:only-of-type {\n",
       "        vertical-align: middle;\n",
       "    }\n",
       "\n",
       "    .dataframe tbody tr th {\n",
       "        vertical-align: top;\n",
       "    }\n",
       "\n",
       "    .dataframe thead th {\n",
       "        text-align: right;\n",
       "    }\n",
       "</style>\n",
       "<table border=\"1\" class=\"dataframe\">\n",
       "  <thead>\n",
       "    <tr style=\"text-align: right;\">\n",
       "      <th></th>\n",
       "      <th>DESCRIPTION</th>\n",
       "      <th>CLASS</th>\n",
       "      <th>txn_description</th>\n",
       "      <th>target</th>\n",
       "    </tr>\n",
       "  </thead>\n",
       "  <tbody>\n",
       "    <tr>\n",
       "      <th>5</th>\n",
       "      <td>TRF/REFUND/FRMROTIMI EMMANUEL AKANNI TO KANU W...</td>\n",
       "      <td>APP_TRANSFER</td>\n",
       "      <td>TRF/REFUND/FRMROTIMI EMMANUEL AKANNI TO KANU W...</td>\n",
       "      <td>APP_TRANSFER</td>\n",
       "    </tr>\n",
       "    <tr>\n",
       "      <th>6</th>\n",
       "      <td>TRF/Meat pie/FRMROTIMI EMMANUEL AKANNI TO AKIN...</td>\n",
       "      <td>APP_TRANSFER</td>\n",
       "      <td>TRF/Meat pie/FRMROTIMI EMMANUEL AKANNI TO AKIN...</td>\n",
       "      <td>APP_TRANSFER</td>\n",
       "    </tr>\n",
       "    <tr>\n",
       "      <th>12</th>\n",
       "      <td>TRF/Fuel/FRMUFUOMA BENEDICTA MARCHIE TO ROTIMI...</td>\n",
       "      <td>APP_TRANSFER</td>\n",
       "      <td>TRF/Fuel/FRMUFUOMA BENEDICTA MARCHIE TO ROTIMI...</td>\n",
       "      <td>APP_TRANSFER</td>\n",
       "    </tr>\n",
       "    <tr>\n",
       "      <th>15</th>\n",
       "      <td>AIRTIME/ 9MOBILE/08179000904</td>\n",
       "      <td>UTILITY</td>\n",
       "      <td>AIRTIME/ 9MOBILE/08179000904</td>\n",
       "      <td>UTILITY</td>\n",
       "    </tr>\n",
       "    <tr>\n",
       "      <th>16</th>\n",
       "      <td>RVSL_AIRTIME/ 9MOBILE/08179000904</td>\n",
       "      <td>REFUND</td>\n",
       "      <td>RVSL_AIRTIME/ 9MOBILE/08179000904</td>\n",
       "      <td>REFUND</td>\n",
       "    </tr>\n",
       "  </tbody>\n",
       "</table>\n",
       "</div>"
      ],
      "text/plain": [
       "                                          DESCRIPTION         CLASS  \\\n",
       "5   TRF/REFUND/FRMROTIMI EMMANUEL AKANNI TO KANU W...  APP_TRANSFER   \n",
       "6   TRF/Meat pie/FRMROTIMI EMMANUEL AKANNI TO AKIN...  APP_TRANSFER   \n",
       "12  TRF/Fuel/FRMUFUOMA BENEDICTA MARCHIE TO ROTIMI...  APP_TRANSFER   \n",
       "15                       AIRTIME/ 9MOBILE/08179000904       UTILITY   \n",
       "16                  RVSL_AIRTIME/ 9MOBILE/08179000904        REFUND   \n",
       "\n",
       "                                      txn_description        target  \n",
       "5   TRF/REFUND/FRMROTIMI EMMANUEL AKANNI TO KANU W...  APP_TRANSFER  \n",
       "6   TRF/Meat pie/FRMROTIMI EMMANUEL AKANNI TO AKIN...  APP_TRANSFER  \n",
       "12  TRF/Fuel/FRMUFUOMA BENEDICTA MARCHIE TO ROTIMI...  APP_TRANSFER  \n",
       "15                       AIRTIME/ 9MOBILE/08179000904       UTILITY  \n",
       "16                  RVSL_AIRTIME/ 9MOBILE/08179000904        REFUND  "
      ]
     },
     "execution_count": 66,
     "metadata": {},
     "output_type": "execute_result"
    }
   ],
   "source": [
    "streamlined_bank_statement['target'] = streamlined_bank_statement['CLASS']\n",
    "streamlined_bank_statement.head()"
   ]
  },
  {
   "cell_type": "code",
   "execution_count": 67,
   "id": "b2eb30f8-ae81-4777-a06f-a1ece8cc3ed6",
   "metadata": {},
   "outputs": [
    {
     "data": {
      "text/html": [
       "<div>\n",
       "<style scoped>\n",
       "    .dataframe tbody tr th:only-of-type {\n",
       "        vertical-align: middle;\n",
       "    }\n",
       "\n",
       "    .dataframe tbody tr th {\n",
       "        vertical-align: top;\n",
       "    }\n",
       "\n",
       "    .dataframe thead th {\n",
       "        text-align: right;\n",
       "    }\n",
       "</style>\n",
       "<table border=\"1\" class=\"dataframe\">\n",
       "  <thead>\n",
       "    <tr style=\"text-align: right;\">\n",
       "      <th></th>\n",
       "      <th>CLASS</th>\n",
       "      <th>txn_description</th>\n",
       "      <th>target</th>\n",
       "    </tr>\n",
       "  </thead>\n",
       "  <tbody>\n",
       "    <tr>\n",
       "      <th>5</th>\n",
       "      <td>APP_TRANSFER</td>\n",
       "      <td>TRF/REFUND/FRMROTIMI EMMANUEL AKANNI TO KANU W...</td>\n",
       "      <td>APP_TRANSFER</td>\n",
       "    </tr>\n",
       "    <tr>\n",
       "      <th>6</th>\n",
       "      <td>APP_TRANSFER</td>\n",
       "      <td>TRF/Meat pie/FRMROTIMI EMMANUEL AKANNI TO AKIN...</td>\n",
       "      <td>APP_TRANSFER</td>\n",
       "    </tr>\n",
       "    <tr>\n",
       "      <th>12</th>\n",
       "      <td>APP_TRANSFER</td>\n",
       "      <td>TRF/Fuel/FRMUFUOMA BENEDICTA MARCHIE TO ROTIMI...</td>\n",
       "      <td>APP_TRANSFER</td>\n",
       "    </tr>\n",
       "    <tr>\n",
       "      <th>15</th>\n",
       "      <td>UTILITY</td>\n",
       "      <td>AIRTIME/ 9MOBILE/08179000904</td>\n",
       "      <td>UTILITY</td>\n",
       "    </tr>\n",
       "    <tr>\n",
       "      <th>16</th>\n",
       "      <td>REFUND</td>\n",
       "      <td>RVSL_AIRTIME/ 9MOBILE/08179000904</td>\n",
       "      <td>REFUND</td>\n",
       "    </tr>\n",
       "  </tbody>\n",
       "</table>\n",
       "</div>"
      ],
      "text/plain": [
       "           CLASS                                    txn_description  \\\n",
       "5   APP_TRANSFER  TRF/REFUND/FRMROTIMI EMMANUEL AKANNI TO KANU W...   \n",
       "6   APP_TRANSFER  TRF/Meat pie/FRMROTIMI EMMANUEL AKANNI TO AKIN...   \n",
       "12  APP_TRANSFER  TRF/Fuel/FRMUFUOMA BENEDICTA MARCHIE TO ROTIMI...   \n",
       "15       UTILITY                       AIRTIME/ 9MOBILE/08179000904   \n",
       "16        REFUND                  RVSL_AIRTIME/ 9MOBILE/08179000904   \n",
       "\n",
       "          target  \n",
       "5   APP_TRANSFER  \n",
       "6   APP_TRANSFER  \n",
       "12  APP_TRANSFER  \n",
       "15       UTILITY  \n",
       "16        REFUND  "
      ]
     },
     "execution_count": 67,
     "metadata": {},
     "output_type": "execute_result"
    }
   ],
   "source": [
    "streamlined_bank_statement = streamlined_bank_statement.drop(\"DESCRIPTION\", axis=1)\n",
    "streamlined_bank_statement.head()"
   ]
  },
  {
   "cell_type": "code",
   "execution_count": 68,
   "id": "221b23c6-e8c2-4c84-bb20-2de3448d9641",
   "metadata": {},
   "outputs": [
    {
     "data": {
      "text/html": [
       "<div>\n",
       "<style scoped>\n",
       "    .dataframe tbody tr th:only-of-type {\n",
       "        vertical-align: middle;\n",
       "    }\n",
       "\n",
       "    .dataframe tbody tr th {\n",
       "        vertical-align: top;\n",
       "    }\n",
       "\n",
       "    .dataframe thead th {\n",
       "        text-align: right;\n",
       "    }\n",
       "</style>\n",
       "<table border=\"1\" class=\"dataframe\">\n",
       "  <thead>\n",
       "    <tr style=\"text-align: right;\">\n",
       "      <th></th>\n",
       "      <th>txn_description</th>\n",
       "      <th>target</th>\n",
       "    </tr>\n",
       "  </thead>\n",
       "  <tbody>\n",
       "    <tr>\n",
       "      <th>5</th>\n",
       "      <td>TRF/REFUND/FRMROTIMI EMMANUEL AKANNI TO KANU W...</td>\n",
       "      <td>APP_TRANSFER</td>\n",
       "    </tr>\n",
       "    <tr>\n",
       "      <th>6</th>\n",
       "      <td>TRF/Meat pie/FRMROTIMI EMMANUEL AKANNI TO AKIN...</td>\n",
       "      <td>APP_TRANSFER</td>\n",
       "    </tr>\n",
       "    <tr>\n",
       "      <th>12</th>\n",
       "      <td>TRF/Fuel/FRMUFUOMA BENEDICTA MARCHIE TO ROTIMI...</td>\n",
       "      <td>APP_TRANSFER</td>\n",
       "    </tr>\n",
       "    <tr>\n",
       "      <th>15</th>\n",
       "      <td>AIRTIME/ 9MOBILE/08179000904</td>\n",
       "      <td>UTILITY</td>\n",
       "    </tr>\n",
       "    <tr>\n",
       "      <th>16</th>\n",
       "      <td>RVSL_AIRTIME/ 9MOBILE/08179000904</td>\n",
       "      <td>REFUND</td>\n",
       "    </tr>\n",
       "  </tbody>\n",
       "</table>\n",
       "</div>"
      ],
      "text/plain": [
       "                                      txn_description        target\n",
       "5   TRF/REFUND/FRMROTIMI EMMANUEL AKANNI TO KANU W...  APP_TRANSFER\n",
       "6   TRF/Meat pie/FRMROTIMI EMMANUEL AKANNI TO AKIN...  APP_TRANSFER\n",
       "12  TRF/Fuel/FRMUFUOMA BENEDICTA MARCHIE TO ROTIMI...  APP_TRANSFER\n",
       "15                       AIRTIME/ 9MOBILE/08179000904       UTILITY\n",
       "16                  RVSL_AIRTIME/ 9MOBILE/08179000904        REFUND"
      ]
     },
     "execution_count": 68,
     "metadata": {},
     "output_type": "execute_result"
    }
   ],
   "source": [
    "streamlined_bank_statement = streamlined_bank_statement.drop(\"CLASS\", axis=1)\n",
    "streamlined_bank_statement.head()"
   ]
  },
  {
   "cell_type": "code",
   "execution_count": 69,
   "id": "3e9951c6-1e3f-4168-a837-dd1fcc8bd30e",
   "metadata": {},
   "outputs": [],
   "source": [
    "# Save Refined data as csv\n",
    "streamlined_bank_statement.to_csv(\"./data/streamlined_bank_statement.csv\", index=False)"
   ]
  },
  {
   "cell_type": "markdown",
   "id": "6aae7265-fdb4-43d7-9aed-1e087c6f90ed",
   "metadata": {},
   "source": [
    "### 1c. Convert target object to Int"
   ]
  },
  {
   "cell_type": "code",
   "execution_count": 70,
   "id": "6feb411b-9e34-4a88-986b-29f2d97070ee",
   "metadata": {},
   "outputs": [],
   "source": [
    "LABELS = {\n",
    "    'AGENT_WITHDRAWAL': 0,\n",
    "    'APP_TRANSFER': 1,\n",
    "    'ATM': 2,\n",
    "    'BANK TRANSFER': 3,\n",
    "    'BANK_CHARGES': 4,\n",
    "    'CASH_WITHDRAWAL': 6,\n",
    "    'Class': 7,\n",
    "    'DEBIT': 8,\n",
    "    'LOAN': 9,\n",
    "    'ONLINE_TRANSFER': 10,\n",
    "    'POS': 11,\n",
    "    'REFUND': 12,\n",
    "    'SALARY': 13,\n",
    "    'TAX': 14,\n",
    "    'USSD_TRANSFER': 15,\n",
    "    'UTILITY': 16\n",
    "}"
   ]
  },
  {
   "cell_type": "code",
   "execution_count": 71,
   "id": "3df1b4a6-0a52-46a7-b811-c145199763ff",
   "metadata": {},
   "outputs": [
    {
     "data": {
      "text/html": [
       "<div>\n",
       "<style scoped>\n",
       "    .dataframe tbody tr th:only-of-type {\n",
       "        vertical-align: middle;\n",
       "    }\n",
       "\n",
       "    .dataframe tbody tr th {\n",
       "        vertical-align: top;\n",
       "    }\n",
       "\n",
       "    .dataframe thead th {\n",
       "        text-align: right;\n",
       "    }\n",
       "</style>\n",
       "<table border=\"1\" class=\"dataframe\">\n",
       "  <thead>\n",
       "    <tr style=\"text-align: right;\">\n",
       "      <th></th>\n",
       "      <th>txn_description</th>\n",
       "      <th>target</th>\n",
       "    </tr>\n",
       "  </thead>\n",
       "  <tbody>\n",
       "    <tr>\n",
       "      <th>5</th>\n",
       "      <td>TRF/REFUND/FRMROTIMI EMMANUEL AKANNI TO KANU W...</td>\n",
       "      <td>1.0</td>\n",
       "    </tr>\n",
       "    <tr>\n",
       "      <th>6</th>\n",
       "      <td>TRF/Meat pie/FRMROTIMI EMMANUEL AKANNI TO AKIN...</td>\n",
       "      <td>1.0</td>\n",
       "    </tr>\n",
       "    <tr>\n",
       "      <th>12</th>\n",
       "      <td>TRF/Fuel/FRMUFUOMA BENEDICTA MARCHIE TO ROTIMI...</td>\n",
       "      <td>1.0</td>\n",
       "    </tr>\n",
       "    <tr>\n",
       "      <th>15</th>\n",
       "      <td>AIRTIME/ 9MOBILE/08179000904</td>\n",
       "      <td>16.0</td>\n",
       "    </tr>\n",
       "    <tr>\n",
       "      <th>16</th>\n",
       "      <td>RVSL_AIRTIME/ 9MOBILE/08179000904</td>\n",
       "      <td>12.0</td>\n",
       "    </tr>\n",
       "  </tbody>\n",
       "</table>\n",
       "</div>"
      ],
      "text/plain": [
       "                                      txn_description  target\n",
       "5   TRF/REFUND/FRMROTIMI EMMANUEL AKANNI TO KANU W...     1.0\n",
       "6   TRF/Meat pie/FRMROTIMI EMMANUEL AKANNI TO AKIN...     1.0\n",
       "12  TRF/Fuel/FRMUFUOMA BENEDICTA MARCHIE TO ROTIMI...     1.0\n",
       "15                       AIRTIME/ 9MOBILE/08179000904    16.0\n",
       "16                  RVSL_AIRTIME/ 9MOBILE/08179000904    12.0"
      ]
     },
     "execution_count": 71,
     "metadata": {},
     "output_type": "execute_result"
    }
   ],
   "source": [
    "streamlined_bank_statement['target'] = streamlined_bank_statement['target'].map(LABELS)\n",
    "streamlined_bank_statement.head()"
   ]
  },
  {
   "cell_type": "markdown",
   "id": "d21b2fd0-1516-4258-a9ec-5aee5ab797f0",
   "metadata": {},
   "source": [
    "### 1c. Split Data into X/y"
   ]
  },
  {
   "cell_type": "code",
   "execution_count": 72,
   "id": "a3d7d96e-9ed6-44ca-89b4-ff4577c73bb7",
   "metadata": {},
   "outputs": [],
   "source": [
    "X = streamlined_bank_statement.drop(\"target\", axis=1)\n",
    "y = streamlined_bank_statement[\"target\"]"
   ]
  },
  {
   "cell_type": "markdown",
   "id": "0e625ef9-6b35-4813-b965-bc3aef7517de",
   "metadata": {},
   "source": [
    "### 1d. Convert txn_description object to Int using OneHotEncoder"
   ]
  },
  {
   "cell_type": "code",
   "execution_count": 73,
   "id": "ee333175-705b-42f0-8ec3-816e0fd97e38",
   "metadata": {},
   "outputs": [
    {
     "data": {
      "text/plain": [
       "<2916x2086 sparse matrix of type '<class 'numpy.float64'>'\n",
       "\twith 2916 stored elements in Compressed Sparse Row format>"
      ]
     },
     "execution_count": 73,
     "metadata": {},
     "output_type": "execute_result"
    }
   ],
   "source": [
    "from sklearn.preprocessing import OneHotEncoder\n",
    "from sklearn.compose import ColumnTransformer\n",
    "\n",
    "categorical_features = [\"txn_description\"]\n",
    "one_hot = OneHotEncoder()\n",
    "transformer = ColumnTransformer([(\"one_hot\",\n",
    "                                  one_hot,\n",
    "                                  categorical_features)],\n",
    "                               remainder=\"passthrough\")\n",
    "\n",
    "transformed_X =transformer.fit_transform(X)\n",
    "transformed_X"
   ]
  },
  {
   "cell_type": "markdown",
   "id": "93ee3c09-c5bf-443e-84b3-571ede5b1bfa",
   "metadata": {},
   "source": [
    "### 1e. Check how many rows we have now"
   ]
  },
  {
   "cell_type": "code",
   "execution_count": 76,
   "id": "af66971c-2cee-461e-858a-b9626c38aa34",
   "metadata": {},
   "outputs": [
    {
     "data": {
      "text/plain": [
       "(2916, 2916)"
      ]
     },
     "execution_count": 76,
     "metadata": {},
     "output_type": "execute_result"
    }
   ],
   "source": [
    "len(y), len(X)"
   ]
  },
  {
   "cell_type": "markdown",
   "id": "bfc2cd68-11e6-435f-bbda-205a7212499b",
   "metadata": {},
   "source": [
    "## 2. choosing the right estimator/algorithm for your problem\n",
    "Using:https://scikit-learn.org/stable/tutorial/machine_learning_map/index.html as a roadmap to picking a model, Our options are:\n",
    "- Linear SVC\n",
    "- KNeighbors Classifier\n",
    "- Ensemble Classifier\n",
    "- SVC"
   ]
  },
  {
   "cell_type": "markdown",
   "id": "b755cf0d-f82e-4384-8404-2b8e206f4880",
   "metadata": {},
   "source": []
  }
 ],
 "metadata": {
  "kernelspec": {
   "display_name": "Python 3 (ipykernel)",
   "language": "python",
   "name": "python3"
  },
  "language_info": {
   "codemirror_mode": {
    "name": "ipython",
    "version": 3
   },
   "file_extension": ".py",
   "mimetype": "text/x-python",
   "name": "python",
   "nbconvert_exporter": "python",
   "pygments_lexer": "ipython3",
   "version": "3.12.2"
  }
 },
 "nbformat": 4,
 "nbformat_minor": 5
}
